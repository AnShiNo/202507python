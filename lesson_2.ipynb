{
 "cells": [
  {
   "cell_type": "code",
   "execution_count": 11,
   "id": "e80caefc",
   "metadata": {},
   "outputs": [
    {
     "name": "stdout",
     "output_type": "stream",
     "text": [
      "Hello! Python\n",
      "Alice 20 1.65 True\n"
     ]
    }
   ],
   "source": [
    "print(\"Hello! Python\")\n",
    "\n",
    "name = \"Alice\"\n",
    "age = 20\n",
    "height = 1.65\n",
    "is_student = True\n",
    "\n",
    "print(name, age, height, is_student)"
   ]
  },
  {
   "cell_type": "code",
   "execution_count": 13,
   "id": "71edeb88",
   "metadata": {},
   "outputs": [
    {
     "name": "stdout",
     "output_type": "stream",
     "text": [
      "15 100000\n"
     ]
    }
   ],
   "source": [
    "a = 10\n",
    "b = 5\n",
    "sum = a + b \n",
    "print(sum, a ** b  )"
   ]
  },
  {
   "cell_type": "code",
   "execution_count": 14,
   "id": "11844e15",
   "metadata": {},
   "outputs": [
    {
     "name": "stdout",
     "output_type": "stream",
     "text": [
      "Hello-World-!-56!\n"
     ]
    }
   ],
   "source": [
    "print ('Hello', 'World', \"!\", 56, sep='-', end='!\\n')"
   ]
  },
  {
   "cell_type": "code",
   "execution_count": 16,
   "id": "b1aafc3f",
   "metadata": {},
   "outputs": [
    {
     "name": "stdout",
     "output_type": "stream",
     "text": [
      "3.141592653589793\n"
     ]
    }
   ],
   "source": [
    "import math\n",
    "print(math.pi)"
   ]
  },
  {
   "cell_type": "code",
   "execution_count": 18,
   "id": "b219216e",
   "metadata": {},
   "outputs": [
    {
     "name": "stdout",
     "output_type": "stream",
     "text": [
      "('[{\"id\":\"51911266750\",\"type\":\"WatchEvent\",\"actor\":{\"id\":82041983,\"login\":\"Matt-FTW\",\"display_login\":\"Matt-FTW\",\"gravatar_id\":\"\",\"url\":\"https://api.github.com/users/Matt-FTW\",\"avatar_url\":\"https://avatars.githubusercontent.com/u/82041983?\"},\"repo\":{\"id\":728348481,\"name\":\"ratatui/awesome-ratatui\",\"url\":\"https://api.github.com/repos/ratatui/awesome-ratatui\"},\"payload\":{\"action\":\"started\"},\"public\":true,\"created_at\":\"2025-07-10T06:43:56Z\",\"org\":{\"id\":125200832,\"login\":\"ratatui\",\"gravatar_id\":\"\",\"url\":\"https://api.github.com/orgs/ratatui\",\"avatar_url\":\"https://avatars.githubusercontent.com/u/125200832?\"}},{\"id\":\"51911266664\",\"type\":\"PushEvent\",\"actor\":{\"id\":218766400,\"login\":\"AngeloChaplin\",\"display_login\":\"AngeloChaplin\",\"gravatar_id\":\"\",\"url\":\"https://api.github.com/users/AngeloChaplin\",\"avatar_url\":\"https://avatars.githubusercontent.com/u/218766400?\"},\"repo\":{\"id\":1012428074,\"name\":\"AngeloChaplin/haoshou2\",\"url\":\"https://api.github.com/repos/AngeloChaplin/haoshou2\"},\"payload\":{\"repository_id\":1012428074,\"push_id\":25406767530,\"size\":1,\"distinct_size\":1,\"ref\":\"refs/heads/main\",\"head\":\"6623f20701cb53d0d0b393b95f97de35de8fa8b6\",\"before\":\"da3c94411bed74b27e91ff67ea90653f7daf32d3\",\"commits\":[{\"sha\":\"6623f20701cb53d0d0b393b95f97de35de8fa8b6\",\"author\":{\"email\":\"angelochaplin@stu.mju.edu.cn\",\"name\":\"AngeloChaplin\"},\"message\":\"Update '\n",
      " 'kline_K2.txt\",\"distinct\":true,\"url\":\"https://api.github.com/repos/AngeloChaplin/haoshou2/commits/6623f20701cb53d0d0b393b95f97de35de8fa8b6\"}]},\"public\":true,\"created_at\":\"2025-07-10T06:43:56Z\"},{\"id\":\"51911266694\",\"type\":\"PushEvent\",\"actor\":{\"id\":198634610,\"login\":\"fused-io-unstable[bot]\",\"display_login\":\"fused-io-unstable\",\"gravatar_id\":\"\",\"url\":\"https://api.github.com/users/fused-io-unstable[bot]\",\"avatar_url\":\"https://avatars.githubusercontent.com/u/198634610?\"},\"repo\":{\"id\":760140390,\"name\":\"fusedio/udfs\",\"url\":\"https://api.github.com/repos/fusedio/udfs\"},\"payload\":{\"repository_id\":760140390,\"push_id\":25406767642,\"size\":1,\"distinct_size\":1,\"ref\":\"refs/heads/aaryan-patch-5d4c37-push\",\"head\":\"dd5ce2f08f403db698647baf36658d6ddae88361\",\"before\":\"c84f313ba3b7121be4db1f2d60a55ddc0ed763f3\",\"commits\":[{\"sha\":\"dd5ce2f08f403db698647baf36658d6ddae88361\",\"author\":{\"email\":\"aaryan@fused.io\",\"name\":\"aaryan@fused.io\"},\"message\":\"push\",\"distinct\":true,\"url\":\"https://api.github.com/repos/fusedio/udfs/commits/dd5ce2f08f403db698647baf36658d6ddae88361\"}]},\"public\":true,\"created_at\":\"2025-07-10T06:43:56Z\",\"org\":{\"id\":160905776,\"login\":\"fusedio\",\"gravatar_id\":\"\",\"url\":\"https://api.github.com/orgs/fusedio\",\"avatar_url\":\"https://avatars.githubusercontent.com/u/160905776?\"}},{\"id\":\"51911266703\",\"type\":\"CreateEvent\",\"actor\":{\"id\":44230474,\"login\":\"sandeep22y\",\"display_login\":\"sandeep22y\",\"gravatar_id\":\"\",\"url\":\"https://api.github.com/users/sandeep22y\",\"avatar_url\":\"https://avatars.githubusercontent.com/u/44230474?\"},\"repo\":{\"id\":1017184441,\"name\":\"sandeep22y/Payloads\",\"url\":\"https://api.github.com/repos/sandeep22y/Payloads\"},\"payload\":{\"ref\":null,\"ref_type\":\"repository\",\"master_branch\":\"main\",\"description\":null,\"pusher_type\":\"user\"},\"public\":true,\"created_at\":\"2025-07-10T06:43:56Z\"},{\"id\":\"51911266697\",\"type\":\"CreateEvent\",\"actor\":{\"id\":187088070,\"login\":\"jithu132004\",\"display_login\":\"jithu132004\",\"gravatar_id\":\"\",\"url\":\"https://api.github.com/users/jithu132004\",\"avatar_url\":\"https://avatars.githubusercontent.com/u/187088070?\"},\"repo\":{\"id\":1017184440,\"name\":\"jithu132004/twibbonize\",\"url\":\"https://api.github.com/repos/jithu132004/twibbonize\"},\"payload\":{\"ref\":null,\"ref_type\":\"repository\",\"master_branch\":\"main\",\"description\":null,\"pusher_type\":\"user\"},\"public\":true,\"created_at\":\"2025-07-10T06:43:56Z\"},{\"id\":\"51911266610\",\"type\":\"PushEvent\",\"actor\":{\"id\":63445766,\"login\":\"chengjunlu\",\"display_login\":\"chengjunlu\",\"gravatar_id\":\"\",\"url\":\"https://api.github.com/users/chengjunlu\",\"avatar_url\":\"https://avatars.githubusercontent.com/u/63445766?\"},\"repo\":{\"id\":631517165,\"name\":\"intel/intel-xpu-backend-for-triton\",\"url\":\"https://api.github.com/repos/intel/intel-xpu-backend-for-triton\"},\"payload\":{\"repository_id\":631517165,\"push_id\":25406767603,\"size\":1,\"distinct_size\":1,\"ref\":\"refs/heads/chengjun/block_store\",\"head\":\"70a5b736cd71395abfcede050552fea7a52b1d1d\",\"before\":\"8dd3f046205180719cd3c5709c1abb24ec4d1946\",\"commits\":[{\"sha\":\"70a5b736cd71395abfcede050552fea7a52b1d1d\",\"author\":{\"email\":\"chengjun.lu@intel.com\",\"name\":\"Lu,Chengjun\"},\"message\":\"Enable '\n",
      " 'the block store for tensor pointer.\\\\n\\\\nSigned-off-by: Lu,Chengjun '\n",
      " '<chengjun.lu@intel.com>\",\"distinct\":true,\"url\":\"https://api.github.com/repos/intel/intel-xpu-backend-for-triton/commits/70a5b736cd71395abfcede050552fea7a52b1d1d\"}]},\"public\":true,\"created_at\":\"2025-07-10T06:43:56Z\",\"org\":{\"id\":17888862,\"login\":\"intel\",\"gravatar_id\":\"\",\"url\":\"https://api.github.com/orgs/intel\",\"avatar_url\":\"https://avatars.githubusercontent.com/u/17888862?\"}},{\"id\":\"51911266586\",\"type\":\"PushEvent\",\"actor\":{\"id\":34393560,\"login\":\"abhishekmg\",\"display_login\":\"abhishekmg\",\"gravatar_id\":\"\",\"url\":\"https://api.github.com/users/abhishekmg\",\"avatar_url\":\"https://avatars.githubusercontent.com/u/34393560?\"},\"repo\":{\"id\":513813442,\"name\":\"timelessco/recollect\",\"url\":\"https://api.github.com/repos/timelessco/recollect\"},\"payload\":{\"repository_id\":513813442,\"push_id\":25406767646,\"size\":1,\"distinct_size\":1,\"ref\":\"refs/heads/feat/prefer-og-images\",\"head\":\"43d0909e6629b46a83873cf34fbab3eac5cd03de\",\"before\":\"2b02df7abf85307fee6eec933e5281bc69dc2c79\",\"commits\":[{\"sha\":\"43d0909e6629b46a83873cf34fbab3eac5cd03de\",\"author\":{\"email\":\"abhishekmg.12@gmail.com\",\"name\":\"abhishekmg\"},\"message\":\"fix(log): '\n",
      " '🚧 added more '\n",
      " 'logs\",\"distinct\":true,\"url\":\"https://api.github.com/repos/timelessco/recollect/commits/43d0909e6629b46a83873cf34fbab3eac5cd03de\"}]},\"public\":true,\"created_at\":\"2025-07-10T06:43:56Z\",\"org\":{\"id\":4126967,\"login\":\"timelessco\",\"gravatar_id\":\"\",\"url\":\"https://api.github.com/orgs/timelessco\",\"avatar_url\":\"https://avatars.githubusercontent.com/u/4126967?\"}},{\"id\":\"51911266612\",\"type\":\"PushEvent\",\"actor\":{\"id\":73139402,\"login\":\"cloudflare-workers-and-pages[bot]\",\"display_login\":\"cloudflare-workers-and-pages\",\"gravatar_id\":\"\",\"url\":\"https://api.github.com/users/cloudflare-workers-and-pages[bot]\",\"avatar_url\":\"https://avatars.githubusercontent.com/u/73139402?\"},\"repo\":{\"id\":1016999353,\"name\":\"Overman1212/moralis-telebot-proxy\",\"url\":\"https://api.github.com/repos/Overman1212/moralis-telebot-proxy\"},\"payload\":{\"repository_id\":1016999353,\"push_id\":25406767640,\"size\":1,\"distinct_size\":1,\"ref\":\"refs/heads/update_worker_name_to_proxy-telebot\",\"head\":\"e1cdd18cce6c873b6fdc87ac05c2ff763c395754\",\"before\":\"069bf612eec3a4343082041d6b1e93bc8bd2a21c\",\"commits\":[{\"sha\":\"e1cdd18cce6c873b6fdc87ac05c2ff763c395754\",\"author\":{\"email\":\"73139402+cloudflare-workers-and-pages[bot]@users.noreply.github.com\",\"name\":\"cloudflare-workers-and-pages[bot]\"},\"message\":\"Update '\n",
      " 'wrangler config name to '\n",
      " 'proxy-telebot\",\"distinct\":true,\"url\":\"https://api.github.com/repos/Overman1212/moralis-telebot-proxy/commits/e1cdd18cce6c873b6fdc87ac05c2ff763c395754\"}]},\"public\":true,\"created_at\":\"2025-07-10T06:43:56Z\"},{\"id\":\"51911266620\",\"type\":\"PullRequestReviewCommentEvent\",\"actor\":{\"id\":85905982,\"login\":\"non-fungible-nelson\",\"display_login\":\"non-fungible-nelson\",\"gravatar_id\":\"\",\"url\":\"https://api.github.com/users/non-fungible-nelson\",\"avatar_url\":\"https://avatars.githubusercontent.com/u/85905982?\"},\"repo\":{\"id\":971393100,\"name\":\"Layr-Labs/eigencloud-docs\",\"url\":\"https://api.github.com/repos/Layr-Labs/eigencloud-docs\"},\"payload\":{\"action\":\"created\",\"comment\":{\"url\":\"https://api.github.com/repos/Layr-Labs/eigencloud-docs/pulls/comments/2196747824\",\"pull_request_review_id\":3004186168,\"id\":2196747824,\"node_id\":\"PRRC_kwDOOeZITM6C77Yw\",\"diff_hunk\":\"@@ '\n",
      " '-0,0 +1,11 @@\\\\n+---\\\\n+sidebar_position: 3\\\\n+title: '\n",
      " 'Consumers\\\\n+---\\\\n+\\\\n+Consumers of multichain verifiable services need to: '\n",
      " '\\\\n+1. Decide how to consume AVS services: [pull, push, or '\n",
      " 'hybrid](multichain-integration-patterns.md).\\\\n+2. Select a verification '\n",
      " 'method based on your trust requirements: [direct, AVS-wrapped, or '\n",
      " 'custom-wrapped](verification-methods.md#certificate-verification-methods).\\\\n+3. '\n",
      " 'Implement certificate verification logic: [proportional, nominal, or '\n",
      " 'custom](verification-methods.md#direct-verification-functions).\\\\n+4. '\n",
      " 'Implement certificate acquisition based on your chosen model in step '\n",
      " '1.\",\"path\":\"docs/products/eigenlayer/developers/howto/build/multichain/multichain-verification-consumers.md\",\"commit_id\":\"cf1a6515510b4901c523e2f773317770bffbe741\",\"original_commit_id\":\"cf1a6515510b4901c523e2f773317770bffbe741\",\"user\":{\"login\":\"non-fungible-nelson\",\"id\":85905982,\"node_id\":\"MDQ6VXNlcjg1OTA1OTgy\",\"avatar_url\":\"https://avatars.githubusercontent.com/u/85905982?v=4\",\"gravatar_id\":\"\",\"url\":\"https://api.github.com/users/non-fungible-nelson\",\"html_url\":\"https://github.com/non-fungible-nelson\",\"followers_url\":\"https://api.github.com/users/non-fungible-nelson/followers\",\"following_url\":\"https://api.github.com/users/non-fungible-nelson/following{/other_user}\",\"gists_url\":\"https://api.github.com/users/non-fungible-nelson/gists{/gist_id}\",\"starred_url\":\"https://api.github.com/users/non-fungible-nelson/starred{/owner}{/repo}\",\"subscriptions_url\":\"https://api.github.com/users/non-fungible-nelson/subscriptions\",\"organizations_url\":\"https://api.github.com/users/non-fungible-nelson/orgs\",\"repos_url\":\"https://api.github.com/users/non-fungible-nelson/repos\",\"events_url\":\"https://api.github.com/users/non-fungible-nelson/events{/privacy}\",\"received_events_url\":\"https://api.github.com/users/non-fungible-nelson/received_events\",\"type\":\"User\",\"user_view_type\":\"public\",\"site_admin\":false},\"body\":\"i '\n",
      " 'think we need to be very clear where and how these are produced and for '\n",
      " 'whom\\\\r\\\\n- by operators using AVS software '\n",
      " '\\\\r\\\\n\",\"created_at\":\"2025-07-10T06:43:55Z\",\"updated_at\":\"2025-07-10T06:43:55Z\",\"html_url\":\"https://github.com/Layr-Labs/eigencloud-docs/pull/62#discussion_r2196747824\",\"pull_request_url\":\"https://api.github.com/repos/Layr-Labs/eigencloud-docs/pulls/62\",\"author_association\":\"CONTRIBUTOR\",\"_links\":{\"self\":{\"href\":\"https://api.github.com/repos/Layr-Labs/eigencloud-docs/pulls/comments/2196747824\"},\"html\":{\"href\":\"https://github.com/Layr-Labs/eigencloud-docs/pull/62#discussion_r2196747824\"},\"pull_request\":{\"href\":\"https://api.github.com/repos/Layr-Labs/eigencloud-docs/pulls/62\"}},\"reactions\":{\"url\":\"https://api.github.com/repos/Layr-Labs/eigencloud-docs/pulls/comments/2196747824/reactions\",\"total_count\":0,\"+1\":0,\"-1\":0,\"laugh\":0,\"hooray\":0,\"confused\":0,\"heart\":0,\"rocket\":0,\"eyes\":0},\"start_line\":null,\"original_start_line\":null,\"start_side\":null,\"line\":10,\"original_line\":10,\"side\":\"RIGHT\",\"original_position\":10,\"position\":10,\"subject_type\":\"line\"},\"pull_request\":{\"url\":\"https://api.github.com/repos/Layr-Labs/eigencloud-docs/pulls/62\",\"id\":2623270332,\"node_id\":\"PR_kwDOOeZITM6cW-28\",\"html_url\":\"https://github.com/Layr-Labs/eigencloud-docs/pull/62\",\"diff_url\":\"https://github.com/Layr-Labs/eigencloud-docs/pull/62.diff\",\"patch_url\":\"https://github.com/Layr-Labs/eigencloud-docs/pull/62.patch\",\"issue_url\":\"https://api.github.com/repos/Layr-Labs/eigencloud-docs/issues/62\",\"number\":62,\"state\":\"open\",\"locked\":false,\"title\":\"[Don\\'t '\n",
      " 'merge until multichain merged to testnet] How to register multichain AVS '\n",
      " '\",\"user\":{\"login\":\"MadelineAu\",\"id\":40311741,\"node_id\":\"MDQ6VXNlcjQwMzExNzQx\",\"avatar_url\":\"https://avatars.githubusercontent.com/u/40311741?v=4\",\"gravatar_id\":\"\",\"url\":\"https://api.github.com/users/MadelineAu\",\"html_url\":\"https://github.com/MadelineAu\",\"followers_url\":\"https://api.github.com/users/MadelineAu/followers\",\"following_url\":\"https://api.github.com/users/MadelineAu/following{/other_user}\",\"gists_url\":\"https://api.github.com/users/MadelineAu/gists{/gist_id}\",\"starred_url\":\"https://api.github.com/users/MadelineAu/starred{/owner}{/repo}\",\"subscriptions_url\":\"https://api.github.com/users/MadelineAu/subscriptions\",\"organizations_url\":\"https://api.github.com/users/MadelineAu/orgs\",\"repos_url\":\"https://api.github.com/users/MadelineAu/repos\",\"events_url\":\"https://api.github.com/users/MadelineAu/events{/privacy}\",\"received_events_url\":\"https://api.github.com/users/MadelineAu/received_events\",\"type\":\"User\",\"user_view_type\":\"public\",\"site_admin\":false},\"body\":null,\"created_at\":\"2025-06-27T06:24:20Z\",\"updated_at\":\"2025-07-10T06:43:55Z\",\"closed_at\":null,\"merged_at\":null,\"merge_commit_sha\":\"27d006fa5fb1beb201ba4406aa2e507714471216\",\"assignee\":null,\"assignees\":[],\"requested_reviewers\":[],\"requested_teams\":[],\"labels\":[],\"milestone\":null,\"draft\":true,\"commits_url\":\"https://api.github.com/repos/Layr-Labs/eigencloud-docs/pulls/62/commits\",\"review_comments_url\":\"https://api.github.com/repos/Layr-Labs/eigencloud-docs/pulls/62/comments\",\"review_comment_url\":\"https://api.github.com/repos/Layr-Labs/eigencloud-docs/pulls/comments{/number}\",\"comments_url\":\"https://api.github.com/repos/Layr-Labs/eigencloud-docs/issues/62/comments\",\"statuses_url\":\"https://api.github.com/repos/Layr-Labs/eigencloud-docs/statuses/cf1a6515510b4901c523e2f773317770bffbe741\",\"head\":{\"label\":\"Layr-Labs:howTo\",\"ref\":\"howTo\",\"sha\":\"cf1a6515510b4901c523e2f773317770bffbe741\",\"user\":{\"login\":\"Layr-Labs\",\"id\":92827658,\"node_id\":\"O_kgDOBYhwCg\",\"avatar_url\":\"https://avatars.githubusercontent.com/u/92827658?v=4\",\"gravatar_id\":\"\",\"url\":\"https://api.github.com/users/Layr-Labs\",\"html_url\":\"https://github.com/Layr-Labs\",\"followers_url\":\"https://api.github.com/users/Layr-Labs/followers\",\"following_url\":\"https://api.github.com/users/Layr-Labs/following{/other_user}\",\"gists_url\":\"https://api.github.com/users/Layr-Labs/gists{/gist_id}\",\"starred_url\":\"https://api.github.com/users/Layr-Labs/starred{/owner}{/repo}\",\"subscriptions_url\":\"https://api.github.com/users/Layr-Labs/subscriptions\",\"organizations_url\":\"https://api.github.com/users/Layr-Labs/orgs\",\"repos_url\":\"https://api.github.com/users/Layr-Labs/repos\",\"events_url\":\"https://api.github.com/users/Layr-Labs/events{/privacy}\",\"received_events_url\":\"https://api.github.com/users/Layr-Labs/received_events\",\"type\":\"Organization\",\"user_view_type\":\"public\",\"site_admin\":false},\"repo\":{\"id\":971393100,\"node_id\":\"R_kgDOOeZITA\",\"name\":\"eigencloud-docs\",\"full_name\":\"Layr-Labs/eigencloud-docs\",\"private\":false,\"owner\":{\"login\":\"Layr-Labs\",\"id\":92827658,\"node_id\":\"O_kgDOBYhwCg\",\"avatar_url\":\"https://avatars.githubusercontent.com/u/92827658?v=4\",\"gravatar_id\":\"\",\"url\":\"https://api.github.com/users/Layr-Labs\",\"html_url\":\"https://github.com/Layr-Labs\",\"followers_url\":\"https://api.github.com/users/Layr-Labs/followers\",\"following_url\":\"https://api.github.com/users/Layr-Labs/following{/other_user}\",\"gists_url\":\"https://api.github.com/users/Layr-Labs/gists{/gist_id}\",\"starred_url\":\"https://api.github.com/users/Layr-Labs/starred{/owner}{/repo}\",\"subscriptions_url\":\"https://api.github.com/users/Layr-Labs/subscriptions\",\"organizations_url\":\"https://api.github.com/users/Layr-Labs/orgs\",\"repos_url\":\"https://api.github.com/users/Layr-Labs/repos\",\"events_url\":\"https://api.github.com/users/Layr-Labs/events{/privacy}\",\"received_events_url\":\"https://api.github.com/users/Layr-Labs/received_events\",\"type\":\"Organization\",\"user_view_type\":\"public\",\"site_admin\":false},\"html_url\":\"https://github.com/Layr-Labs/eigencloud-docs\",\"description\":\"EigenCloud '\n",
      " 'Documentation\",\"fork\":false,\"url\":\"https://api.github.com/repos/Layr-Labs/eigencloud-docs\",\"forks_url\":\"https://api.github.com/repos/Layr-Labs/eigencloud-docs/forks\",\"keys_url\":\"https://api.github.com/repos/Layr-Labs/eigencloud-docs/keys{/key_id}\",\"collaborators_url\":\"https://api.github.com/repos/Layr-Labs/eigencloud-docs/collaborators{/collaborator}\",\"teams_url\":\"https://api.github.com/repos/Layr-Labs/eigencloud-docs/teams\",\"hooks_url\":\"https://api.github.com/repos/Layr-Labs/eigencloud-docs/hooks\",\"issue_events_url\":\"https://api.github.com/repos/Layr-Labs/eigencloud-docs/issues/events{/number}\",\"events_url\":\"https://api.github.com/repos/Layr-Labs/eigencloud-docs/events\",\"assignees_url\":\"https://api.github.com/repos/Layr-Labs/eigencloud-docs/assignees{/user}\",\"branches_url\":\"https://api.github.com/repos/Layr-Labs/eigencloud-docs/branches{/branch}\",\"tags_url\":\"https://api.github.com/repos/Layr-Labs/eigencloud-docs/tags\",\"blobs_url\":\"https://api.github.com/repos/Layr-Labs/eigencloud-docs/git/blobs{/sha}\",\"git_tags_url\":\"https://api.github.com/repos/Layr-Labs/eigencloud-docs/git/tags{/sha}\",\"git_refs_url\":\"https://api.github.com/repos/Layr-Labs/eigencloud-docs/git/refs{/sha}\",\"trees_url\":\"https://api.github.com/repos/Layr-Labs/eigencloud-docs/git/trees{/sha}\",\"statuses_url\":\"https://api.github.com/repos/Layr-Labs/eigencloud-docs/statuses/{sha}\",\"languages_url\":\"https://api.github.com/repos/Layr-Labs/eigencloud-docs/languages\",\"stargazers_url\":\"https://api.github.com/repos/Layr-Labs/eigencloud-docs/stargazers\",\"contributors_url\":\"https://api.github.com/repos/Layr-Labs/eigencloud-docs/contributors\",\"subscribers_url\":\"https://api.github.com/repos/Layr-Labs/eigencloud-docs/subscribers\",\"subscription_url\":\"https://api.github.com/repos/Layr-Labs/eigencloud-docs/subscription\",\"commits_url\":\"https://api.github.com/repos/Layr-Labs/eigencloud-docs/commits{/sha}\",\"git_commits_url\":\"https://api.github.com/repos/Layr-Labs/eigencloud-docs/git/commits{/sha}\",\"comments_url\":\"https://api.github.com/repos/Layr-Labs/eigencloud-docs/comments{/number}\",\"issue_comment_url\":\"https://api.github.com/repos/Layr-Labs/eigencloud-docs/issues/comments{/number}\",\"contents_url\":\"https://api.github.com/repos/Layr-Labs/eigencloud-docs/contents/{+path}\",\"compare_url\":\"https://api.github.com/repos/Layr-Labs/eigencloud-docs/compare/{base}...{head}\",\"merges_url\":\"https://api.github.com/repos/Layr-Labs/eigencloud-docs/merges\",\"archive_url\":\"https://api.github.com/repos/Layr-Labs/eigencloud-docs/{archive_format}{/ref}\",\"downloads_url\":\"https://api.github.com/repos/Layr-Labs/eigencloud-docs/downloads\",\"issues_url\":\"https://api.github.com/repos/Layr-Labs/eigencloud-docs/issues{/number}\",\"pulls_url\":\"https://api.github.com/repos/Layr-Labs/eigencloud-docs/pulls{/number}\",\"milestones_url\":\"https://api.github.com/repos/Layr-Labs/eigencloud-docs/milestones{/number}\",\"notifications_url\":\"https://api.github.com/repos/Layr-Labs/eigencloud-docs/notifications{?since,all,participating}\",\"labels_url\":\"https://api.github.com/repos/Layr-Labs/eigencloud-docs/labels{/name}\",\"releases_url\":\"https://api.github.com/repos/Layr-Labs/eigencloud-docs/releases{/id}\",\"deployments_url\":\"https://api.github.com/repos/Layr-Labs/eigencloud-docs/deployments\",\"created_at\":\"2025-04-23T13:05:08Z\",\"updated_at\":\"2025-07-09T05:16:25Z\",\"pushed_at\":\"2025-07-10T05:46:58Z\",\"git_url\":\"git://github.com/Layr-Labs/eigencloud-docs.git\",\"ssh_url\":\"git@github.com:Layr-Labs/eigencloud-docs.git\",\"clone_url\":\"https://github.com/Layr-Labs/eigencloud-docs.git\",\"svn_url\":\"https://github.com/Layr-Labs/eigencloud-docs\",\"homepage\":\"https://eigencloud-docs.vercel.app\",\"size\":85551,\"stargazers_count\":0,\"watchers_count\":0,\"language\":\"HTML\",\"has_issues\":true,\"has_projects\":true,\"has_downloads\":true,\"has_wiki\":true,\"has_pages\":false,\"has_discussions\":false,\"forks_count\":0,\"mirror_url\":null,\"archived\":false,\"disabled\":false,\"open_issues_count\":10,\"license\":null,\"allow_forking\":true,\"is_template\":false,\"web_commit_signoff_required\":false,\"topics\":[],\"visibility\":\"public\",\"forks\":0,\"open_issues\":10,\"watchers\":0,\"default_branch\":\"main\"}},\"base\":{\"label\":\"Layr-Labs:main\",\"ref\":\"main\",\"sha\":\"9c86adea010336bb79b8e9cc60fee26742d8b232\",\"user\":{\"login\":\"Layr-Labs\",\"id\":92827658,\"node_id\":\"O_kgDOBYhwCg\",\"avatar_url\":\"https://avatars.githubusercontent.com/u/92827658?v=4\",\"gravatar_id\":\"\",\"url\":\"https://api.github.com/users/Layr-Labs\",\"html_url\":\"https://github.com/Layr-Labs\",\"followers_url\":\"https://api.github.com/users/Layr-Labs/followers\",\"following_url\":\"https://api.github.com/users/Layr-Labs/following{/other_user}\",\"gists_url\":\"https://api.github.com/users/Layr-Labs/gists{/gist_id}\",\"starred_url\":\"https://api.github.com/users/Layr-Labs/starred{/owner}{/repo}\",\"subscriptions_url\":\"https://api.github.com/users/Layr-Labs/subscriptions\",\"organizations_url\":\"https://api.github.com/users/Layr-Labs/orgs\",\"repos_url\":\"https://api.github.com/users/Layr-Labs/repos\",\"events_url\":\"https://api.github.com/users/Layr-Labs/events{/privacy}\",\"received_events_url\":\"https://api.github.com/users/Layr-Labs/received_events\",\"type\":\"Organization\",\"user_view_type\":\"public\",\"site_admin\":false},\"repo\":{\"id\":971393100,\"node_id\":\"R_kgDOOeZITA\",\"name\":\"eigencloud-docs\",\"full_name\":\"Layr-Labs/eigencloud-docs\",\"private\":false,\"owner\":{\"login\":\"Layr-Labs\",\"id\":92827658,\"node_id\":\"O_kgDOBYhwCg\",\"avatar_url\":\"https://avatars.githubusercontent.com/u/92827658?v=4\",\"gravatar_id\":\"\",\"url\":\"https://api.github.com/users/Layr-Labs\",\"html_url\":\"https://github.com/Layr-Labs\",\"followers_url\":\"https://api.github.com/users/Layr-Labs/followers\",\"following_url\":\"https://api.github.com/users/Layr-Labs/following{/other_user}\",\"gists_url\":\"https://api.github.com/users/Layr-Labs/gists{/gist_id}\",\"starred_url\":\"https://api.github.com/users/Layr-Labs/starred{/owner}{/repo}\",\"subscriptions_url\":\"https://api.github.com/users/Layr-Labs/subscriptions\",\"organizations_url\":\"https://api.github.com/users/Layr-Labs/orgs\",\"repos_url\":\"https://api.github.com/users/Layr-Labs/repos\",\"events_url\":\"https://api.github.com/users/Layr-Labs/events{/privacy}\",\"received_events_url\":\"https://api.github.com/users/Layr-Labs/received_events\",\"type\":\"Organization\",\"user_view_type\":\"public\",\"site_admin\":false},\"html_url\":\"https://github.com/Layr-Labs/eigencloud-docs\",\"description\":\"EigenCloud '\n",
      " 'Documentation\",\"fork\":false,\"url\":\"https://api.github.com/repos/Layr-Labs/eigencloud-docs\",\"forks_url\":\"https://api.github.com/repos/Layr-Labs/eigencloud-docs/forks\",\"keys_url\":\"https://api.github.com/repos/Layr-Labs/eigencloud-docs/keys{/key_id}\",\"collaborators_url\":\"https://api.github.com/repos/Layr-Labs/eigencloud-docs/collaborators{/collaborator}\",\"teams_url\":\"https://api.github.com/repos/Layr-Labs/eigencloud-docs/teams\",\"hooks_url\":\"https://api.github.com/repos/Layr-Labs/eigencloud-docs/hooks\",\"issue_events_url\":\"https://api.github.com/repos/Layr-Labs/eigencloud-docs/issues/events{/number}\",\"events_url\":\"https://api.github.com/repos/Layr-Labs/eigencloud-docs/events\",\"assignees_url\":\"https://api.github.com/repos/Layr-Labs/eigencloud-docs/assignees{/user}\",\"branches_url\":\"https://api.github.com/repos/Layr-Labs/eigencloud-docs/branches{/branch}\",\"tags_url\":\"https://api.github.com/repos/Layr-Labs/eigencloud-docs/tags\",\"blobs_url\":\"https://api.github.com/repos/Layr-Labs/eigencloud-docs/git/blobs{/sha}\",\"git_tags_url\":\"https://api.github.com/repos/Layr-Labs/eigencloud-docs/git/tags{/sha}\",\"git_refs_url\":\"https://api.github.com/repos/Layr-Labs/eigencloud-docs/git/refs{/sha}\",\"trees_url\":\"https://api.github.com/repos/Layr-Labs/eigencloud-docs/git/trees{/sha}\",\"statuses_url\":\"https://api.github.com/repos/Layr-Labs/eigencloud-docs/statuses/{sha}\",\"languages_url\":\"https://api.github.com/repos/Layr-Labs/eigencloud-docs/languages\",\"stargazers_url\":\"https://api.github.com/repos/Layr-Labs/eigencloud-docs/stargazers\",\"contributors_url\":\"https://api.github.com/repos/Layr-Labs/eigencloud-docs/contributors\",\"subscribers_url\":\"https://api.github.com/repos/Layr-Labs/eigencloud-docs/subscribers\",\"subscription_url\":\"https://api.github.com/repos/Layr-Labs/eigencloud-docs/subscription\",\"commits_url\":\"https://api.github.com/repos/Layr-Labs/eigencloud-docs/commits{/sha}\",\"git_commits_url\":\"https://api.github.com/repos/Layr-Labs/eigencloud-docs/git/commits{/sha}\",\"comments_url\":\"https://api.github.com/repos/Layr-Labs/eigencloud-docs/comments{/number}\",\"issue_comment_url\":\"https://api.github.com/repos/Layr-Labs/eigencloud-docs/issues/comments{/number}\",\"contents_url\":\"https://api.github.com/repos/Layr-Labs/eigencloud-docs/contents/{+path}\",\"compare_url\":\"https://api.github.com/repos/Layr-Labs/eigencloud-docs/compare/{base}...{head}\",\"merges_url\":\"https://api.github.com/repos/Layr-Labs/eigencloud-docs/merges\",\"archive_url\":\"https://api.github.com/repos/Layr-Labs/eigencloud-docs/{archive_format}{/ref}\",\"downloads_url\":\"https://api.github.com/repos/Layr-Labs/eigencloud-docs/downloads\",\"issues_url\":\"https://api.github.com/repos/Layr-Labs/eigencloud-docs/issues{/number}\",\"pulls_url\":\"https://api.github.com/repos/Layr-Labs/eigencloud-docs/pulls{/number}\",\"milestones_url\":\"https://api.github.com/repos/Layr-Labs/eigencloud-docs/milestones{/number}\",\"notifications_url\":\"https://api.github.com/repos/Layr-Labs/eigencloud-docs/notifications{?since,all,participating}\",\"labels_url\":\"https://api.github.com/repos/Layr-Labs/eigencloud-docs/labels{/name}\",\"releases_url\":\"https://api.github.com/repos/Layr-Labs/eigencloud-docs/releases{/id}\",\"deployments_url\":\"https://api.github.com/repos/Layr-Labs/eigencloud-docs/deployments\",\"created_at\":\"2025-04-23T13:05:08Z\",\"updated_at\":\"2025-07-09T05:16:25Z\",\"pushed_at\":\"2025-07-10T05:46:58Z\",\"git_url\":\"git://github.com/Layr-Labs/eigencloud-docs.git\",\"ssh_url\":\"git@github.com:Layr-Labs/eigencloud-docs.git\",\"clone_url\":\"https://github.com/Layr-Labs/eigencloud-docs.git\",\"svn_url\":\"https://github.com/Layr-Labs/eigencloud-docs\",\"homepage\":\"https://eigencloud-docs.vercel.app\",\"size\":85551,\"stargazers_count\":0,\"watchers_count\":0,\"language\":\"HTML\",\"has_issues\":true,\"has_projects\":true,\"has_downloads\":true,\"has_wiki\":true,\"has_pages\":false,\"has_discussions\":false,\"forks_count\":0,\"mirror_url\":null,\"archived\":false,\"disabled\":false,\"open_issues_count\":10,\"license\":null,\"allow_forking\":true,\"is_template\":false,\"web_commit_signoff_required\":false,\"topics\":[],\"visibility\":\"public\",\"forks\":0,\"open_issues\":10,\"watchers\":0,\"default_branch\":\"main\"}},\"_links\":{\"self\":{\"href\":\"https://api.github.com/repos/Layr-Labs/eigencloud-docs/pulls/62\"},\"html\":{\"href\":\"https://github.com/Layr-Labs/eigencloud-docs/pull/62\"},\"issue\":{\"href\":\"https://api.github.com/repos/Layr-Labs/eigencloud-docs/issues/62\"},\"comments\":{\"href\":\"https://api.github.com/repos/Layr-Labs/eigencloud-docs/issues/62/comments\"},\"review_comments\":{\"href\":\"https://api.github.com/repos/Layr-Labs/eigencloud-docs/pulls/62/comments\"},\"review_comment\":{\"href\":\"https://api.github.com/repos/Layr-Labs/eigencloud-docs/pulls/comments{/number}\"},\"commits\":{\"href\":\"https://api.github.com/repos/Layr-Labs/eigencloud-docs/pulls/62/commits\"},\"statuses\":{\"href\":\"https://api.github.com/repos/Layr-Labs/eigencloud-docs/statuses/cf1a6515510b4901c523e2f773317770bffbe741\"}},\"author_association\":\"COLLABORATOR\",\"auto_merge\":null,\"active_lock_reason\":null}},\"public\":true,\"created_at\":\"2025-07-10T06:43:55Z\",\"org\":{\"id\":92827658,\"login\":\"Layr-Labs\",\"gravatar_id\":\"\",\"url\":\"https://api.github.com/orgs/Layr-Labs\",\"avatar_url\":\"https://avatars.githubusercontent.com/u/92827658?\"}},{\"id\":\"51911266624\",\"type\":\"WatchEvent\",\"actor\":{\"id\":75176011,\"login\":\"vtrnnhlinh\",\"display_login\":\"vtrnnhlinh\",\"gravatar_id\":\"\",\"url\":\"https://api.github.com/users/vtrnnhlinh\",\"avatar_url\":\"https://avatars.githubusercontent.com/u/75176011?\"},\"repo\":{\"id\":806285928,\"name\":\"gaurav23b/simple-hyprland\",\"url\":\"https://api.github.com/repos/gaurav23b/simple-hyprland\"},\"payload\":{\"action\":\"started\"},\"public\":true,\"created_at\":\"2025-07-10T06:43:56Z\"},{\"id\":\"51911266587\",\"type\":\"PushEvent\",\"actor\":{\"id\":132385347,\"login\":\"AlfredoDGallardo\",\"display_login\":\"AlfredoDGallardo\",\"gravatar_id\":\"\",\"url\":\"https://api.github.com/users/AlfredoDGallardo\",\"avatar_url\":\"https://avatars.githubusercontent.com/u/132385347?\"},\"repo\":{\"id\":1012240901,\"name\":\"AlfredoDGallardo/Clinical-Placement-Mileage-Report\",\"url\":\"https://api.github.com/repos/AlfredoDGallardo/Clinical-Placement-Mileage-Report\"},\"payload\":{\"repository_id\":1012240901,\"push_id\":25406767483,\"size\":1,\"distinct_size\":1,\"ref\":\"refs/heads/main\",\"head\":\"e61dd2f9dc4cc910701a5042fe78e8c6cb0eb1d2\",\"before\":\"7e9946ef7c84d78eb6fbc8271745c4dc18f9de13\",\"commits\":[{\"sha\":\"e61dd2f9dc4cc910701a5042fe78e8c6cb0eb1d2\",\"author\":{\"email\":\"132385347+AlfredoDGallardo@users.noreply.github.com\",\"name\":\"Alfredo '\n",
      " 'Derain Gallardo\"},\"message\":\"Update '\n",
      " 'README.md\",\"distinct\":true,\"url\":\"https://api.github.com/repos/AlfredoDGallardo/Clinical-Placement-Mileage-Report/commits/e61dd2f9dc4cc910701a5042fe78e8c6cb0eb1d2\"}]},\"public\":true,\"created_at\":\"2025-07-10T06:43:56Z\"},{\"id\":\"51911266613\",\"type\":\"CreateEvent\",\"actor\":{\"id\":33685954,\"login\":\"1danchirila\",\"display_login\":\"1danchirila\",\"gravatar_id\":\"\",\"url\":\"https://api.github.com/users/1danchirila\",\"avatar_url\":\"https://avatars.githubusercontent.com/u/33685954?\"},\"repo\":{\"id\":1017184442,\"name\":\"state-mesh/docker-tools\",\"url\":\"https://api.github.com/repos/state-mesh/docker-tools\"},\"payload\":{\"ref\":null,\"ref_type\":\"repository\",\"master_branch\":\"main\",\"description\":\"Docker '\n",
      " 'Tools\",\"pusher_type\":\"user\"},\"public\":true,\"created_at\":\"2025-07-10T06:43:56Z\",\"org\":{\"id\":187860595,\"login\":\"state-mesh\",\"gravatar_id\":\"\",\"url\":\"https://api.github.com/orgs/state-mesh\",\"avatar_url\":\"https://avatars.githubusercontent.com/u/187860595?\"}},{\"id\":\"51911266591\",\"type\":\"CreateEvent\",\"actor\":{\"id\":217915106,\"login\":\"GautamAdarsh576\",\"display_login\":\"GautamAdarsh576\",\"gravatar_id\":\"\",\"url\":\"https://api.github.com/users/GautamAdarsh576\",\"avatar_url\":\"https://avatars.githubusercontent.com/u/217915106?\"},\"repo\":{\"id\":1017184438,\"name\":\"GautamAdarsh576/codeShaft_webDevelopment\",\"url\":\"https://api.github.com/repos/GautamAdarsh576/codeShaft_webDevelopment\"},\"payload\":{\"ref\":null,\"ref_type\":\"repository\",\"master_branch\":\"main\",\"description\":null,\"pusher_type\":\"user\"},\"public\":true,\"created_at\":\"2025-07-10T06:43:56Z\"},{\"id\":\"51911266564\",\"type\":\"PushEvent\",\"actor\":{\"id\":168538872,\"login\":\"quic-amitraj\",\"display_login\":\"quic-amitraj\",\"gravatar_id\":\"\",\"url\":\"https://api.github.com/users/quic-amitraj\",\"avatar_url\":\"https://avatars.githubusercontent.com/u/168538872?\"},\"repo\":{\"id\":779482952,\"name\":\"quic/efficient-transformers\",\"url\":\"https://api.github.com/repos/quic/efficient-transformers\"},\"payload\":{\"repository_id\":779482952,\"push_id\":25406767591,\"size\":20,\"distinct_size\":20,\"ref\":\"refs/heads/Model_fix\",\"head\":\"7c365c40131afc57f6394d832813ce42f104e96d\",\"before\":\"b50eef25d42b307118ea86cbc719c4c3513bb1fb\",\"commits\":[{\"sha\":\"e0812aa55503f95435aa17e56c609d89ded94d53\",\"author\":{\"email\":\"dipankar@qti.qualcomm.com\",\"name\":\"Dipankar '\n",
      " 'Sarkar\"},\"message\":\"Announcement update for Granite Vision '\n",
      " '(#474)\\\\n\\\\nAnnouncement update for Granite Vision in 1.20.0 '\n",
      " 'release\\\\n\\\\n---------\\\\n\\\\nSigned-off-by: Dipankar Sarkar '\n",
      " '<dipankar@qti.qualcomm.com>\\\\nSigned-off-by: Amit Raj '\n",
      " '<amitraj@qti.qualcomm.com>\",\"distinct\":true,\"url\":\"https://api.github.com/repos/quic/efficient-transformers/commits/e0812aa55503f95435aa17e56c609d89ded94d53\"},{\"sha\":\"f4d3bb84703bfead420c1db453cfb82b99cacd05\",\"author\":{\"email\":\"dipankar@qti.qualcomm.com\",\"name\":\"Dipankar '\n",
      " 'Sarkar\"},\"message\":\"Fixes for mllama (#462)\\\\n\\\\nAddressed The issue faced '\n",
      " 'during mllama dual qpc compilation\\\\nAdded coditions for mllama in '\n",
      " 'modeling_auto\\\\n\\\\n---------\\\\n\\\\nSigned-off-by: Dipankar Sarkar '\n",
      " '<dipankar@qti.qualcomm.com>\\\\nSigned-off-by: Amit Raj '\n",
      " '<amitraj@qti.qualcomm.com>\",\"distinct\":true,\"url\":\"https://api.github.com/repos/quic/efficient-transformers/commits/f4d3bb84703bfead420c1db453cfb82b99cacd05\"},{\"sha\":\"d93ff4238eaeed0730219cf77311a6dc89c63a6d\",\"author\":{\"email\":\"168412978+quic-shagun@users.noreply.github.com\",\"name\":\"Shagun '\n",
      " 'Sood\"},\"message\":\"BugFix: Fix reshape error for llama swiftkv models '\n",
      " '(#432)\\\\n\\\\nThis fixed the issue with higher BS compilation for SwiftKV '\n",
      " \"models\\\\n\\\\n```\\\\nCompiler command: ['/opt/qti-aic/exec/qaic-exec', \"\n",
      " \"'-aic-hw', '-aic-hw-version=2.0', \"\n",
      " \"'-m=/prj/qct/aisyssol_scratch/users/shagsood/quic_shagun/LlamaSwiftKVForCausalLM-a5879ebc0e59ab40/LlamaSwiftKVForCausal\\\\nLM.onnx', \"\n",
      " \"'-compile-only', '-retained-state', '-convert-to-fp16', '-aic-num-cores=16', \"\n",
      " \"'-network-specialization-config=/prj/qct/aisyssol_scratch/users/shagsood/quic_shagun/LlamaSwiftKVForCausalLM-a5879eb\\\\nc0e59ab40/qpc-60f86f912a187346/specializations.json', \"\n",
      " \"'-custom-IO-list-file=/prj/qct/aisyssol_scratch/users/shagsood/quic_shagun/LlamaSwiftKVForCausalLM-a5879ebc0e59ab40/qpc-60f86f912a187346/custom_io.ya\\\\nml', \"\n",
      " \"'-mdp-load-partition-config=/prj/qct/aisyssol_scratch/users/shagsood/quic_shagun/LlamaSwiftKVForCausalLM-a5879ebc0e59ab40/qpc-60f86f912a187346/mdp_ts_4.json', \"\n",
      " \"'-aic-binary-dir=/prj/qct/aisyssol_scra\\\\ntch/users/shagsood/quic_shagun/LlamaSwiftKVForCausalLM-a5879ebc0e59ab40/qpc-60f86f912a187346/qpc']\\\\nCompiler \"\n",
      " 'exitcode: 1\\\\nCompiler stderr:\\\\nQAIC_ERROR:\\\\nError message:  '\n",
      " \"[Operator-'/model/layers.16/self_attn/Reshape'] : Reshape: input shape (4, \"\n",
      " '4, 4096) and output shape (4, 1, 32, 128) have different number of elements '\n",
      " '(in 65536 vs. out 16384)\\\\nUnable to '\n",
      " 'AddNodesToGraphFromModel\\\\n```\\\\n\\\\nTested with BS4. Able to compile '\n",
      " 'now\\\\n\\\\nSigned-off-by: quic-shagun '\n",
      " '<quic_shagsood@quicinc.com>\\\\nSigned-off-by: Amit Raj '\n",
      " '<amitraj@qti.qualcomm.com>\",\"distinct\":true,\"url\":\"https://api.github.com/repos/quic/efficient-transformers/commits/d93ff4238eaeed0730219cf77311a6dc89c63a6d\"},{\"sha\":\"f67dc6d99ab313fd658b22dbb0e5134adaace553\",\"author\":{\"email\":\"quic_akuruvil@quicinc.com\",\"name\":\"quic-akuruvil\"},\"message\":\"Gemma '\n",
      " '3 minor fixes  (#476)\\\\n\\\\nCI enablement and other minor fixes for '\n",
      " 'Gemma3\\\\n\\\\n---------\\\\n\\\\nSigned-off-by: Ann Kuruvilla '\n",
      " '<quic_akuruvil@quicinc.com>\\\\nSigned-off-by: Amit Raj '\n",
      " '<amitraj@qti.qualcomm.com>\",\"distinct\":true,\"url\":\"https://api.github.com/repos/quic/efficient-transformers/commits/f67dc6d99ab313fd658b22dbb0e5134adaace553\"},{\"sha\":\"ce5913878628e2ee3466afc37c3e89b5d6b706a2\",\"author\":{\"email\":\"dipankar@qti.qualcomm.com\",\"name\":\"Dipankar '\n",
      " 'Sarkar\"},\"message\":\"Bug fix for spdTransform (#467)\\\\n\\\\nAdded fix for '\n",
      " 'spdtransform due to change in hash\\\\n\\\\n---------\\\\n\\\\nSigned-off-by: '\n",
      " 'Dipankar Sarkar <dipankar@qti.qualcomm.com>\\\\nSigned-off-by: Amit Raj '\n",
      " '<amitraj@qti.qualcomm.com>\",\"distinct\":true,\"url\":\"https://api.github.com/repos/quic/efficient-transformers/commits/ce5913878628e2ee3466afc37c3e89b5d6b706a2\"},{\"sha\":\"4ab3467f11036fe513f5c7ef8ba3195d8b1a4def\",\"author\":{\"email\":\"quic_meetkuma@quicinc.com\",\"name\":\"Meet '\n",
      " 'Patel\"},\"message\":\"[QEff. Finetune]: Enabled FT CI tests. (#420)\\\\n\\\\n- '\n",
      " 'Enabled CI tests for Finetuning.\\\\n- Updated Jenkins file to install '\n",
      " 'torch_qaic as it is required during FT\\\\ntests.\\\\n- Added finetune as a new '\n",
      " 'pytest flag and updated other existing tests\\\\nnot to trigger for this '\n",
      " 'flag.\\\\n\\\\n---------\\\\n\\\\nSigned-off-by: meetkuma '\n",
      " '<meetkuma@qti.qualcomm.com>\\\\nCo-authored-by: Meet Patel '\n",
      " '<meetkuma@qti.qualcomm.com>\\\\nSigned-off-by: Amit Raj '\n",
      " '<amitraj@qti.qualcomm.com>\",\"distinct\":true,\"url\":\"https://api.github.com/repos/quic/efficient-transformers/commits/4ab3467f11036fe513f5c7ef8ba3195d8b1a4def\"},{\"sha\":\"4588bdbda79fb126093222118067392d2e0f4b1e\",\"author\":{\"email\":\"quic_akuruvil@quicinc.com\",\"name\":\"quic-akuruvil\"},\"message\":\"Gemma '\n",
      " '3 minor fixes  (#476) - CPR (#484)\\\\n\\\\nCI enablement and other minor fixes '\n",
      " 'for Gemma3\\\\n\\\\n---------\\\\n\\\\n---------\\\\n\\\\nSigned-off-by: Ann Kuruvilla '\n",
      " '<quic_akuruvil@quicinc.com>\\\\nSigned-off-by: Dipankar Sarkar '\n",
      " '<dipankar@qti.qualcomm.com>\\\\nCo-authored-by: Dipankar Sarkar '\n",
      " '<dipankar@qti.qualcomm.com>\\\\nSigned-off-by: Amit Raj '\n",
      " '<amitraj@qti.qualcomm.com>\",\"distinct\":true,\"url\":\"https://api.github.com/repos/quic/efficient-transformers/commits/4588bdbda79fb126093222118067392d2e0f4b1e\"},{\"sha\":\"2154d3c0aaf515800cd8f2891be464440f034bb3\",\"author\":{\"email\":\"hemagnih@qti.qualcomm.com\",\"name\":\"Hem '\n",
      " 'Agnihotri\"},\"message\":\"Revert \\\\\"Gemma 3 minor fixes  (#476) - CPR\\\\\" '\n",
      " '(#485)\\\\n\\\\nReverts quic/efficient-transformers#484\\\\n\\\\nSigned-off-by: Amit '\n",
      " 'Raj '\n",
      " '<amitraj@qti.qualcomm.com>\",\"distinct\":true,\"url\":\"https://api.github.com/repos/quic/efficient-transformers/commits/2154d3c0aaf515800cd8f2891be464440f034bb3\"},{\"sha\":\"8bfe36871d52fccb00b1088e4af5d13ceed5f4b8\",\"author\":{\"email\":\"abukhoye@qti.qualcomm.com\",\"name\":\"Abukhoyer '\n",
      " 'Shaik\"},\"message\":\"[Docs/Readme]: Main Readme updating for latest news and '\n",
      " 'adding the onboarded features in docs (#423)\\\\n\\\\nThis PR is created for '\n",
      " 'updating the readme and docs for adding the\\\\nlatest features added in this '\n",
      " 'release.\\\\n\\\\n---------\\\\n\\\\nSigned-off-by: Abukhoyer Shaik '\n",
      " '<abukhoye@qti.qualcomm.com>\\\\nSigned-off-by: Amit Raj '\n",
      " '<amitraj@qti.qualcomm.com>\",\"distinct\":true,\"url\":\"https://api.github.com/repos/quic/efficient-transformers/commits/8bfe36871d52fccb00b1088e4af5d13ceed5f4b8\"},{\"sha\":\"f7dc2cdc360616b31f2bb21b28b9e01efe5f5685\",\"author\":{\"email\":\"dhirajku@qti.qualcomm.com\",\"name\":\"Dhiraj '\n",
      " 'Kumar Sah\"},\"message\":\"QUICKFIX: Removed the redundant breakpoint comment in '\n",
      " 'modeling_llava_next file. (#475)\\\\n\\\\nSigned-off-by: Dhiraj Kumar Sah '\n",
      " '<dhirajku@qti.qualcomm.com>\\\\nSigned-off-by: Amit Raj '\n",
      " '<amitraj@qti.qualcomm.com>\",\"distinct\":true,\"url\":\"https://api.github.com/repos/quic/efficient-transformers/commits/f7dc2cdc360616b31f2bb21b28b9e01efe5f5685\"},{\"sha\":\"68f9cd4935e762447bdd532df987f390e3e7e844\",\"author\":{\"email\":\"rishinr@qti.qualcomm.com\",\"name\":\"Rishin '\n",
      " 'Raj\"},\"message\":\"MDP hash support (#479)\\\\n\\\\nSigned-off-by: Rishin Raj '\n",
      " '<rishinr@qti.qualcomm.com>\\\\nSigned-off-by: Amit Raj '\n",
      " '<amitraj@qti.qualcomm.com>\",\"distinct\":true,\"url\":\"https://api.github.com/repos/quic/efficient-transformers/commits/68f9cd4935e762447bdd532df987f390e3e7e844\"},{\"sha\":\"7a1abf1727e913f019361d8c3b95e3a45893d545\",\"author\":{\"email\":\"quic_sallabad@quicinc.com\",\"name\":\"Swati '\n",
      " 'Allabadi\"},\"message\":\"[QEff Finetune] Adding dataset padding changes '\n",
      " \"(#478)\\\\n\\\\nPadding the dataset with dummy samples (they won't contribute \"\n",
      " 'in\\\\ntotal_loss) to make the #samples a multiple of degree of '\n",
      " 'ddp*batch_size)\\\\nin case of\\\\n1) Fine tuning through DDP\\\\n2) '\n",
      " 'train_batch_size > 1 or val_batch_size > '\n",
      " '0\\\\n\\\\n---------\\\\n\\\\nSigned-off-by: Swati Allabadi '\n",
      " '<sallabad@qti.qualcomm.com>\\\\nCo-authored-by: Swati Allabadi '\n",
      " '<sallabad@qti.qualcomm.com>\\\\nCo-authored-by: Mamta Singh '\n",
      " '<168400541+quic-mamta@users.noreply.github.com>\\\\nSigned-off-by: Amit Raj '\n",
      " '<amitraj@qti.qualcomm.com>\",\"distinct\":true,\"url\":\"https://api.github.com/repos/quic/efficient-transformers/commits/7a1abf1727e913f019361d8c3b95e3a45893d545\"},{\"sha\":\"c6f20f5fb74f0eebd7cd256a44b82fd270bc5fd9\",\"author\":{\"email\":\"shubhagr@qti.qualcomm.com\",\"name\":\"Shubham '\n",
      " 'Agrawal\"},\"message\":\"Fixed QNN data format config issue. '\n",
      " '(#480)\\\\n\\\\nGenerating data format config file fails for encoder onnx graph '\n",
      " 'without\\\\npast key or past value.\\\\nFixed a coding bug in the '\n",
      " 'function.\\\\n\\\\n---------\\\\n\\\\nSigned-off-by: Shubham Agrawal '\n",
      " '<shubhagr@qti.qualcomm.com>\\\\nSigned-off-by: Amit Raj '\n",
      " '<amitraj@qti.qualcomm.com>\",\"distinct\":true,\"url\":\"https://api.github.com/repos/quic/efficient-transformers/commits/c6f20f5fb74f0eebd7cd256a44b82fd270bc5fd9\"},{\"sha\":\"f54fd81f67ad4292f1d1e4ab2d1f01f5e0f2b13a\",\"author\":{\"email\":\"asmigosw@qti.qualcomm.com\",\"name\":\"asmigosw\"},\"message\":\"Corrected '\n",
      " 'Total Inference Time unit (#505)\\\\n\\\\nChanged Total (E2E) inference time '\n",
      " 'from decode/sec to sec.\\\\n\\\\nSigned-off-by: Asmita Goswami '\n",
      " '<quic_asmigosw@quicinc.com>\\\\nSigned-off-by: Amit Raj '\n",
      " '<amitraj@qti.qualcomm.com>\",\"distinct\":true,\"url\":\"https://api.github.com/repos/quic/efficient-transformers/commits/f54fd81f67ad4292f1d1e4ab2d1f01f5e0f2b13a\"},{\"sha\":\"fd93d8c4add79ac355f9585642c1f3efe925456d\",\"author\":{\"email\":\"meetkuma@qti.qualcomm.com\",\"name\":\"Meet '\n",
      " 'Patel\"},\"message\":\"[QEff. Finetune]: Added support to sync gradients across '\n",
      " 'devices during optimizer step only. (#477)\\\\n\\\\nDisabling gradient is '\n",
      " 'necessary when using gradient_accumulation_step >\\\\n1 with ddp '\n",
      " 'enabled.\\\\nCurrently, we are syncing gradient at every loss.backward() call, '\n",
      " 'which\\\\nis called at all steps. When using gradient accumulation, the '\n",
      " 'weight\\\\nupdate during opt.step() step. Only during that step, the '\n",
      " 'gradients\\\\nacross each devices should sync with each other.\\\\n\\\\nwith '\n",
      " 'model.no_sync() --> context manager solves this issue.\\\\n\\\\nHere, we are not '\n",
      " 'using it but instead setting\\\\nddp_model.require_backward_grad_sync to True '\n",
      " 'or False depending on which\\\\nstep we '\n",
      " 'are.\\\\n\\\\n---------\\\\n\\\\nSigned-off-by: Meet Patel '\n",
      " '<meetkuma@qti.qualcomm.com>\\\\nSigned-off-by: meetkuma '\n",
      " '<meetkuma@qti.qualcomm.com>\\\\nSigned-off-by: Amit Raj '\n",
      " '<amitraj@qti.qualcomm.com>\",\"distinct\":true,\"url\":\"https://api.github.com/repos/quic/efficient-transformers/commits/fd93d8c4add79ac355f9585642c1f3efe925456d\"},{\"sha\":\"f5c456824c0072950e8fadb285f0099d088bbe5a\",\"author\":{\"email\":\"168400541+quic-mamta@users.noreply.github.com\",\"name\":\"Mamta '\n",
      " 'Singh\"},\"message\":\"[QEff Finetune]: Implement logger for finetuning and '\n",
      " 'enable dumping (#371)\\\\n\\\\n1. Implement logger for finetuning\\\\n2. enable '\n",
      " 'dumping logs by given flag\\\\n\\\\n---------\\\\n\\\\nSigned-off-by: Mamta Singh '\n",
      " '<mamtsing@qti.qualcomm.com>\\\\nCo-authored-by: Mamta Singh '\n",
      " '<mamtsing@qti.qualcomm.com>\\\\nSigned-off-by: Amit Raj '\n",
      " '<amitraj@qti.qualcomm.com>\",\"distinct\":true,\"url\":\"https://api.github.com/repos/quic/efficient-transformers/commits/f5c456824c0072950e8fadb285f0099d088bbe5a\"},{\"sha\":\"4a41b242c210a7060666016b09034f22cde0d690\",\"author\":{\"email\":\"quic_akuruvil@quicinc.com\",\"name\":\"quic-akuruvil\"},\"message\":\"Gemma '\n",
      " '3 minor fixes  (#476) - CPR (#484)\\\\n\\\\nCI enablement and other minor fixes '\n",
      " 'for Gemma3\\\\n\\\\n---------\\\\n\\\\n---------\\\\n\\\\nSigned-off-by: Ann Kuruvilla '\n",
      " '<quic_akuruvil@quicinc.com>\\\\nSigned-off-by: Dipankar Sarkar '\n",
      " '<dipankar@qti.qualcomm.com>\\\\nCo-authored-by: Dipankar Sarkar '\n",
      " '<dipankar@qti.qualcomm.com>\\\\nSigned-off-by: Amit Raj '\n",
      " '<amitraj@qti.qualcomm.com>\",\"distinct\":true,\"url\":\"https://api.github.com/repos/quic/efficient-transformers/commits/4a41b242c210a7060666016b09034f22cde0d690\"},{\"sha\":\"00cf60629b7e6aab160527f92c04c5e84039df05\",\"author\":{\"email\":\"hemagnih@qti.qualcomm.com\",\"name\":\"Hem '\n",
      " 'Agnihotri\"},\"message\":\"Revert \\\\\"Gemma 3 minor fixes  (#476) - CPR\\\\\" '\n",
      " '(#485)\\\\n\\\\nReverts quic/efficient-transformers#484\\\\n\\\\nSigned-off-by: Amit '\n",
      " 'Raj '\n",
      " '<amitraj@qti.qualcomm.com>\",\"distinct\":true,\"url\":\"https://api.github.com/repos/quic/efficient-transformers/commits/00cf60629b7e6aab160527f92c04c5e84039df05\"},{\"sha\":\"e2024170f85fc2eb09196b9449b658c177234419\",\"author\":{\"email\":\"quic_amitraj@quicinc.com\",\"name\":\"Amit '\n",
      " 'Raj\"},\"message\":\" Create a constant value for '\n",
      " 'MIN_MASKED_ATTN_VALUE\\\\n\\\\nSigned-off-by: Amit Raj '\n",
      " '<amitraj@qti.qualcomm.com>\",\"distinct\":true,\"url\":\"https://api.github.com/repos/quic/efficient-transformers/commits/e2024170f85fc2eb09196b9449b658c177234419\"},{\"sha\":\"7c365c40131afc57f6394d832813ce42f104e96d\",\"author\":{\"email\":\"quic_amitraj@quicinc.com\",\"name\":\"Amit '\n",
      " 'Raj\"},\"message\":\"Value update for mask\\\\n\\\\nSigned-off-by: Amit Raj '\n",
      " '<amitraj@qti.qualcomm.com>\",\"distinct\":true,\"url\":\"https://api.github.com/repos/quic/efficient-transformers/commits/7c365c40131afc57f6394d832813ce42f104e96d\"}]},\"public\":true,\"created_at\":\"2025-07-10T06:43:56Z\",\"org\":{\"id\":55295854,\"login\":\"quic\",\"gravatar_id\":\"\",\"url\":\"https://api.github.com/orgs/quic\",\"avatar_url\":\"https://avatars.githubusercontent.com/u/55295854?\"}},{\"id\":\"51911266541\",\"type\":\"PushEvent\",\"actor\":{\"id\":59019395,\"login\":\"phrynus\",\"display_login\":\"phrynus\",\"gravatar_id\":\"\",\"url\":\"https://api.github.com/users/phrynus\",\"avatar_url\":\"https://avatars.githubusercontent.com/u/59019395?\"},\"repo\":{\"id\":952464386,\"name\":\"phrynus/permitsui\",\"url\":\"https://api.github.com/repos/phrynus/permitsui\"},\"payload\":{\"repository_id\":952464386,\"push_id\":25406767645,\"size\":1,\"distinct_size\":1,\"ref\":\"refs/heads/main\",\"head\":\"735445efe50ffbf1c0a150408fd52d6c404d95b2\",\"before\":\"7d5738e21de79c82fd0b877d63721779b3e6f011\",\"commits\":[{\"sha\":\"735445efe50ffbf1c0a150408fd52d6c404d95b2\",\"author\":{\"email\":\"fondantcn@gmail.com\",\"name\":\"phrynus\"},\"message\":\"修正多方通讯为多方通信，更新许可证信息提取逻辑，添加硅基流动API密钥输入功能，优化图片识别处理流程。\",\"distinct\":true,\"url\":\"https://api.github.com/repos/phrynus/permitsui/commits/735445efe50ffbf1c0a150408fd52d6c404d95b2\"}]},\"public\":true,\"created_at\":\"2025-07-10T06:43:56Z\"},{\"id\":\"51911266557\",\"type\":\"PushEvent\",\"actor\":{\"id\":32375533,\"login\":\"stoodkev\",\"display_login\":\"stoodkev\",\"gravatar_id\":\"\",\"url\":\"https://api.github.com/users/stoodkev\",\"avatar_url\":\"https://avatars.githubusercontent.com/u/32375533?\"},\"repo\":{\"id\":265501155,\"name\":\"hive-keychain/hive-keychain-mobile\",\"url\":\"https://api.github.com/repos/hive-keychain/hive-keychain-mobile\"},\"payload\":{\"repository_id\":265501155,\"push_id\":25406767605,\"size\":1,\"distinct_size\":1,\"ref\":\"refs/heads/dev\",\"head\":\"5e93dbe28eec18a3b288482e793f40ceea0104cd\",\"before\":\"b493fc74780918e3e38c502a6cb349c5e6e25fee\",\"commits\":[{\"sha\":\"5e93dbe28eec18a3b288482e793f40ceea0104cd\",\"author\":{\"email\":\"quentin.correa@gmail.com\",\"name\":\"stoodkev\"},\"message\":\"v2.7.15\",\"distinct\":true,\"url\":\"https://api.github.com/repos/hive-keychain/hive-keychain-mobile/commits/5e93dbe28eec18a3b288482e793f40ceea0104cd\"}]},\"public\":true,\"created_at\":\"2025-07-10T06:43:56Z\",\"org\":{\"id\":98441463,\"login\":\"hive-keychain\",\"gravatar_id\":\"\",\"url\":\"https://api.github.com/orgs/hive-keychain\",\"avatar_url\":\"https://avatars.githubusercontent.com/u/98441463?\"}},{\"id\":\"51911266521\",\"type\":\"PushEvent\",\"actor\":{\"id\":41898282,\"login\":\"github-actions[bot]\",\"display_login\":\"github-actions\",\"gravatar_id\":\"\",\"url\":\"https://api.github.com/users/github-actions[bot]\",\"avatar_url\":\"https://avatars.githubusercontent.com/u/41898282?\"},\"repo\":{\"id\":465938690,\"name\":\"jeacovy/gifme-readme\",\"url\":\"https://api.github.com/repos/jeacovy/gifme-readme\"},\"payload\":{\"repository_id\":465938690,\"push_id\":25406767549,\"size\":1,\"distinct_size\":1,\"ref\":\"refs/heads/master\",\"head\":\"2dc7268c10d25b9f3877a4fc9746dc7ba5334e27\",\"before\":\"b92df0f87d9a35fcf670cdc6eb36d92e0f976abd\",\"commits\":[{\"sha\":\"2dc7268c10d25b9f3877a4fc9746dc7ba5334e27\",\"author\":{\"email\":\"jeacovygayle@gmail.com\",\"name\":\"jeacovy\"},\"message\":\"🚀 '\n",
      " 'Adding a GIF for your README? Consider it '\n",
      " 'done!\",\"distinct\":true,\"url\":\"https://api.github.com/repos/jeacovy/gifme-readme/commits/2dc7268c10d25b9f3877a4fc9746dc7ba5334e27\"}]},\"public\":true,\"created_at\":\"2025-07-10T06:43:56Z\"},{\"id\":\"51911266473\",\"type\":\"WatchEvent\",\"actor\":{\"id\":2752375,\"login\":\"plathon\",\"display_login\":\"plathon\",\"gravatar_id\":\"\",\"url\":\"https://api.github.com/users/plathon\",\"avatar_url\":\"https://avatars.githubusercontent.com/u/2752375?\"},\"repo\":{\"id\":952688112,\"name\":\"microsoft/playwright-mcp\",\"url\":\"https://api.github.com/repos/microsoft/playwright-mcp\"},\"payload\":{\"action\":\"started\"},\"public\":true,\"created_at\":\"2025-07-10T06:43:56Z\",\"org\":{\"id\":6154722,\"login\":\"microsoft\",\"gravatar_id\":\"\",\"url\":\"https://api.github.com/orgs/microsoft\",\"avatar_url\":\"https://avatars.githubusercontent.com/u/6154722?\"}},{\"id\":\"51911266497\",\"type\":\"PushEvent\",\"actor\":{\"id\":97956492,\"login\":\"YuvicHaha\",\"display_login\":\"YuvicHaha\",\"gravatar_id\":\"\",\"url\":\"https://api.github.com/users/YuvicHaha\",\"avatar_url\":\"https://avatars.githubusercontent.com/u/97956492?\"},\"repo\":{\"id\":1017168645,\"name\":\"YuvicHaha/test\",\"url\":\"https://api.github.com/repos/YuvicHaha/test\"},\"payload\":{\"repository_id\":1017168645,\"push_id\":25406767585,\"size\":1,\"distinct_size\":1,\"ref\":\"refs/heads/main\",\"head\":\"0ad2ca1933126b7716ad65fcefd1077cdda7423c\",\"before\":\"93c4d94440a810928c3c7e6431f43b47b470cae2\",\"commits\":[{\"sha\":\"0ad2ca1933126b7716ad65fcefd1077cdda7423c\",\"author\":{\"email\":\"97956492+YuvicHaha@users.noreply.github.com\",\"name\":\"YuvicHaha\"},\"message\":\"Delete '\n",
      " 'discord-bot '\n",
      " 'directory\",\"distinct\":true,\"url\":\"https://api.github.com/repos/YuvicHaha/test/commits/0ad2ca1933126b7716ad65fcefd1077cdda7423c\"}]},\"public\":true,\"created_at\":\"2025-07-10T06:43:56Z\"},{\"id\":\"51911266534\",\"type\":\"CreateEvent\",\"actor\":{\"id\":142998888,\"login\":\"3406088084\",\"display_login\":\"3406088084\",\"gravatar_id\":\"\",\"url\":\"https://api.github.com/users/3406088084\",\"avatar_url\":\"https://avatars.githubusercontent.com/u/142998888?\"},\"repo\":{\"id\":1017136394,\"name\":\"3406088084/3406088084.github.io\",\"url\":\"https://api.github.com/repos/3406088084/3406088084.github.io\"},\"payload\":{\"ref\":\"master\",\"ref_type\":\"branch\",\"master_branch\":\"main\",\"description\":null,\"pusher_type\":\"user\"},\"public\":true,\"created_at\":\"2025-07-10T06:43:56Z\"},{\"id\":\"51911266508\",\"type\":\"PushEvent\",\"actor\":{\"id\":13613592,\"login\":\"siminsungho\",\"display_login\":\"siminsungho\",\"gravatar_id\":\"\",\"url\":\"https://api.github.com/users/siminsungho\",\"avatar_url\":\"https://avatars.githubusercontent.com/u/13613592?\"},\"repo\":{\"id\":932081187,\"name\":\"ubinos-edu/rx004_home\",\"url\":\"https://api.github.com/repos/ubinos-edu/rx004_home\"},\"payload\":{\"repository_id\":932081187,\"push_id\":25406767595,\"size\":1,\"distinct_size\":1,\"ref\":\"refs/heads/ubinos-main\",\"head\":\"29cc55eb4f8c06083adbea6aa2769988ec742c8e\",\"before\":\"fc74d590185b94366819c592cbe78f287576602a\",\"commits\":[{\"sha\":\"29cc55eb4f8c06083adbea6aa2769988ec742c8e\",\"author\":{\"email\":\"siminsungho@gmail.com\",\"name\":\"Sungho '\n",
      " 'Park\"},\"message\":\"Refactoring\",\"distinct\":true,\"url\":\"https://api.github.com/repos/ubinos-edu/rx004_home/commits/29cc55eb4f8c06083adbea6aa2769988ec742c8e\"}]},\"public\":true,\"created_at\":\"2025-07-10T06:43:56Z\",\"org\":{\"id\":102272031,\"login\":\"ubinos-edu\",\"gravatar_id\":\"\",\"url\":\"https://api.github.com/orgs/ubinos-edu\",\"avatar_url\":\"https://avatars.githubusercontent.com/u/102272031?\"}},{\"id\":\"51911266499\",\"type\":\"PushEvent\",\"actor\":{\"id\":211329187,\"login\":\"arinjay-gangwar\",\"display_login\":\"arinjay-gangwar\",\"gravatar_id\":\"\",\"url\":\"https://api.github.com/users/arinjay-gangwar\",\"avatar_url\":\"https://avatars.githubusercontent.com/u/211329187?\"},\"repo\":{\"id\":1011767817,\"name\":\"arinjay-gangwar/dp\",\"url\":\"https://api.github.com/repos/arinjay-gangwar/dp\"},\"payload\":{\"repository_id\":1011767817,\"push_id\":25406767455,\"size\":1,\"distinct_size\":1,\"ref\":\"refs/heads/master\",\"head\":\"99a64d36328c7ec65e223d942c3c78308d810a08\",\"before\":\"7d06ee1c1182c342ca3e7b9ab7c2a74e6ff9f4be\",\"commits\":[{\"sha\":\"99a64d36328c7ec65e223d942c3c78308d810a08\",\"author\":{\"email\":\"arinjay.gangwar@digitup.in\",\"name\":\"arinjay-gangwar\"},\"message\":\"longestconsecutivestring_optimal_slidingwindow '\n",
      " '- True O(n) single '\n",
      " 'pass\",\"distinct\":true,\"url\":\"https://api.github.com/repos/arinjay-gangwar/dp/commits/99a64d36328c7ec65e223d942c3c78308d810a08\"}]},\"public\":true,\"created_at\":\"2025-07-10T06:43:56Z\"},{\"id\":\"51911266490\",\"type\":\"PushEvent\",\"actor\":{\"id\":216376434,\"login\":\"ytherisrwcCSS\",\"display_login\":\"ytherisrwcCSS\",\"gravatar_id\":\"\",\"url\":\"https://api.github.com/users/ytherisrwcCSS\",\"avatar_url\":\"https://avatars.githubusercontent.com/u/216376434?\"},\"repo\":{\"id\":1011469510,\"name\":\"ytherisrwcCSS/Free-code-for-Passive-Income\",\"url\":\"https://api.github.com/repos/ytherisrwcCSS/Free-code-for-Passive-Income\"},\"payload\":{\"repository_id\":1011469510,\"push_id\":25406767523,\"size\":1,\"distinct_size\":1,\"ref\":\"refs/heads/main\",\"head\":\"fc7c51e61dfa89d54881b5279eea879e7a5c96f5\",\"before\":\"738d197cde477e245577c00a59e19b6efc806dae\",\"commits\":[{\"sha\":\"fc7c51e61dfa89d54881b5279eea879e7a5c96f5\",\"author\":{\"email\":\"pgutmann1989848@gmail.com\",\"name\":\"PhoenixFox127\"},\"message\":\"Update '\n",
      " 'LICENSE\",\"distinct\":true,\"url\":\"https://api.github.com/repos/ytherisrwcCSS/Free-code-for-Passive-Income/commits/fc7c51e61dfa89d54881b5279eea879e7a5c96f5\"}]},\"public\":true,\"created_at\":\"2025-07-10T06:43:56Z\"},{\"id\":\"51911266515\",\"type\":\"CreateEvent\",\"actor\":{\"id\":217915106,\"login\":\"GautamAdarsh576\",\"display_login\":\"GautamAdarsh576\",\"gravatar_id\":\"\",\"url\":\"https://api.github.com/users/GautamAdarsh576\",\"avatar_url\":\"https://avatars.githubusercontent.com/u/217915106?\"},\"repo\":{\"id\":1017184438,\"name\":\"GautamAdarsh576/codeShaft_webDevelopment\",\"url\":\"https://api.github.com/repos/GautamAdarsh576/codeShaft_webDevelopment\"},\"payload\":{\"ref\":\"main\",\"ref_type\":\"branch\",\"master_branch\":\"main\",\"description\":null,\"pusher_type\":\"user\"},\"public\":true,\"created_at\":\"2025-07-10T06:43:56Z\"},{\"id\":\"51911266424\",\"type\":\"PushEvent\",\"actor\":{\"id\":218480087,\"login\":\"zarin-anjum\",\"display_login\":\"zarin-anjum\",\"gravatar_id\":\"\",\"url\":\"https://api.github.com/users/zarin-anjum\",\"avatar_url\":\"https://avatars.githubusercontent.com/u/218480087?\"},\"repo\":{\"id\":1017175822,\"name\":\"zarin-anjum/my-portfolio\",\"url\":\"https://api.github.com/repos/zarin-anjum/my-portfolio\"},\"payload\":{\"repository_id\":1017175822,\"push_id\":25406767453,\"size\":1,\"distinct_size\":1,\"ref\":\"refs/heads/main\",\"head\":\"1eda28cfc9dafcfce5aed434f995a35270fdec96\",\"before\":\"4800ac5d78ef7e669db66aa2e1db94871432bd42\",\"commits\":[{\"sha\":\"1eda28cfc9dafcfce5aed434f995a35270fdec96\",\"author\":{\"email\":\"zarinanjum0801@gmail.com\",\"name\":\"zarin-anjum\"},\"message\":\"added '\n",
      " 'images '\n",
      " 'folder\",\"distinct\":true,\"url\":\"https://api.github.com/repos/zarin-anjum/my-portfolio/commits/1eda28cfc9dafcfce5aed434f995a35270fdec96\"}]},\"public\":true,\"created_at\":\"2025-07-10T06:43:56Z\"},{\"id\":\"51911266427\",\"type\":\"PullRequestEvent\",\"actor\":{\"id\":12869237,\"login\":\"Betanto\",\"display_login\":\"Betanto\",\"gravatar_id\":\"\",\"url\":\"https://api.github.com/users/Betanto\",\"avatar_url\":\"https://avatars.githubusercontent.com/u/12869237?\"},\"repo\":{\"id\":1012235063,\"name\":\"Betanto/ceritakita\",\"url\":\"https://api.github.com/repos/Betanto/ceritakita\"},\"payload\":{\"action\":\"closed\",\"number\":26,\"pull_request\":{\"url\":\"https://api.github.com/repos/Betanto/ceritakita/pulls/26\",\"id\":2654838651,\"node_id\":\"PR_kwDOPFV7N86ePZ97\",\"html_url\":\"https://github.com/Betanto/ceritakita/pull/26\",\"diff_url\":\"https://github.com/Betanto/ceritakita/pull/26.diff\",\"patch_url\":\"https://github.com/Betanto/ceritakita/pull/26.patch\",\"issue_url\":\"https://api.github.com/repos/Betanto/ceritakita/issues/26\",\"number\":26,\"state\":\"closed\",\"locked\":false,\"title\":\"Krisna\",\"user\":{\"login\":\"Betanto\",\"id\":12869237,\"node_id\":\"MDQ6VXNlcjEyODY5MjM3\",\"avatar_url\":\"https://avatars.githubusercontent.com/u/12869237?v=4\",\"gravatar_id\":\"\",\"url\":\"https://api.github.com/users/Betanto\",\"html_url\":\"https://github.com/Betanto\",\"followers_url\":\"https://api.github.com/users/Betanto/followers\",\"following_url\":\"https://api.github.com/users/Betanto/following{/other_user}\",\"gists_url\":\"https://api.github.com/users/Betanto/gists{/gist_id}\",\"starred_url\":\"https://api.github.com/users/Betanto/starred{/owner}{/repo}\",\"subscriptions_url\":\"https://api.github.com/users/Betanto/subscriptions\",\"organizations_url\":\"https://api.github.com/users/Betanto/orgs\",\"repos_url\":\"https://api.github.com/users/Betanto/repos\",\"events_url\":\"https://api.github.com/users/Betanto/events{/privacy}\",\"received_events_url\":\"https://api.github.com/users/Betanto/received_events\",\"type\":\"User\",\"user_view_type\":\"public\",\"site_admin\":false},\"body\":null,\"created_at\":\"2025-07-10T06:43:40Z\",\"updated_at\":\"2025-07-10T06:43:53Z\",\"closed_at\":\"2025-07-10T06:43:53Z\",\"merged_at\":\"2025-07-10T06:43:53Z\",\"merge_commit_sha\":\"d2b6d49f824490bf03dfa4216a7ecefb4adec27c\",\"assignee\":null,\"assignees\":[],\"requested_reviewers\":[],\"requested_teams\":[],\"labels\":[],\"milestone\":null,\"draft\":false,\"commits_url\":\"https://api.github.com/repos/Betanto/ceritakita/pulls/26/commits\",\"review_comments_url\":\"https://api.github.com/repos/Betanto/ceritakita/pulls/26/comments\",\"review_comment_url\":\"https://api.github.com/repos/Betanto/ceritakita/pulls/comments{/number}\",\"comments_url\":\"https://api.github.com/repos/Betanto/ceritakita/issues/26/comments\",\"statuses_url\":\"https://api.github.com/repos/Betanto/ceritakita/statuses/a81c65d0f97b543c861b953fffe38677e251644f\",\"head\":{\"label\":\"Betanto:krisna\",\"ref\":\"krisna\",\"sha\":\"a81c65d0f97b543c861b953fffe38677e251644f\",\"user\":{\"login\":\"Betanto\",\"id\":12869237,\"node_id\":\"MDQ6VXNlcjEyODY5MjM3\",\"avatar_url\":\"https://avatars.githubusercontent.com/u/12869237?v=4\",\"gravatar_id\":\"\",\"url\":\"https://api.github.com/users/Betanto\",\"html_url\":\"https://github.com/Betanto\",\"followers_url\":\"https://api.github.com/users/Betanto/followers\",\"following_url\":\"https://api.github.com/users/Betanto/following{/other_user}\",\"gists_url\":\"https://api.github.com/users/Betanto/gists{/gist_id}\",\"starred_url\":\"https://api.github.com/users/Betanto/starred{/owner}{/repo}\",\"subscriptions_url\":\"https://api.github.com/users/Betanto/subscriptions\",\"organizations_url\":\"https://api.github.com/users/Betanto/orgs\",\"repos_url\":\"https://api.github.com/users/Betanto/repos\",\"events_url\":\"https://api.github.com/users/Betanto/events{/privacy}\",\"received_events_url\":\"https://api.github.com/users/Betanto/received_events\",\"type\":\"User\",\"user_view_type\":\"public\",\"site_admin\":false},\"repo\":{\"id\":1012235063,\"node_id\":\"R_kgDOPFV7Nw\",\"name\":\"ceritakita\",\"full_name\":\"Betanto/ceritakita\",\"private\":false,\"owner\":{\"login\":\"Betanto\",\"id\":12869237,\"node_id\":\"MDQ6VXNlcjEyODY5MjM3\",\"avatar_url\":\"https://avatars.githubusercontent.com/u/12869237?v=4\",\"gravatar_id\":\"\",\"url\":\"https://api.github.com/users/Betanto\",\"html_url\":\"https://github.com/Betanto\",\"followers_url\":\"https://api.github.com/users/Betanto/followers\",\"following_url\":\"https://api.github.com/users/Betanto/following{/other_user}\",\"gists_url\":\"https://api.github.com/users/Betanto/gists{/gist_id}\",\"starred_url\":\"https://api.github.com/users/Betanto/starred{/owner}{/repo}\",\"subscriptions_url\":\"https://api.github.com/users/Betanto/subscriptions\",\"organizations_url\":\"https://api.github.com/users/Betanto/orgs\",\"repos_url\":\"https://api.github.com/users/Betanto/repos\",\"events_url\":\"https://api.github.com/users/Betanto/events{/privacy}\",\"received_events_url\":\"https://api.github.com/users/Betanto/received_events\",\"type\":\"User\",\"user_view_type\":\"public\",\"site_admin\":false},\"html_url\":\"https://github.com/Betanto/ceritakita\",\"description\":\"Aplikasi '\n",
      " 'untuk pemenuhan kebutuhan '\n",
      " 'Bootcamp\",\"fork\":false,\"url\":\"https://api.github.com/repos/Betanto/ceritakita\",\"forks_url\":\"https://api.github.com/repos/Betanto/ceritakita/forks\",\"keys_url\":\"https://api.github.com/repos/Betanto/ceritakita/keys{/key_id}\",\"collaborators_url\":\"https://api.github.com/repos/Betanto/ceritakita/collaborators{/collaborator}\",\"teams_url\":\"https://api.github.com/repos/Betanto/ceritakita/teams\",\"hooks_url\":\"https://api.github.com/repos/Betanto/ceritakita/hooks\",\"issue_events_url\":\"https://api.github.com/repos/Betanto/ceritakita/issues/events{/number}\",\"events_url\":\"https://api.github.com/repos/Betanto/ceritakita/events\",\"assignees_url\":\"https://api.github.com/repos/Betanto/ceritakita/assignees{/user}\",\"branches_url\":\"https://api.github.com/repos/Betanto/ceritakita/branches{/branch}\",\"tags_url\":\"https://api.github.com/repos/Betanto/ceritakita/tags\",\"blobs_url\":\"https://api.github.com/repos/Betanto/ceritakita/git/blobs{/sha}\",\"git_tags_url\":\"https://api.github.com/repos/Betanto/ceritakita/git/tags{/sha}\",\"git_refs_url\":\"https://api.github.com/repos/Betanto/ceritakita/git/refs{/sha}\",\"trees_url\":\"https://api.github.com/repos/Betanto/ceritakita/git/trees{/sha}\",\"statuses_url\":\"https://api.github.com/repos/Betanto/ceritakita/statuses/{sha}\",\"languages_url\":\"https://api.github.com/repos/Betanto/ceritakita/languages\",\"stargazers_url\":\"https://api.github.com/repos/Betanto/ceritakita/stargazers\",\"contributors_url\":\"https://api.github.com/repos/Betanto/ceritakita/contributors\",\"subscribers_url\":\"https://api.github.com/repos/Betanto/ceritakita/subscribers\",\"subscription_url\":\"https://api.github.com/repos/Betanto/ceritakita/subscription\",\"commits_url\":\"https://api.github.com/repos/Betanto/ceritakita/commits{/sha}\",\"git_commits_url\":\"https://api.github.com/repos/Betanto/ceritakita/git/commits{/sha}\",\"comments_url\":\"https://api.github.com/repos/Betanto/ceritakita/comments{/number}\",\"issue_comment_url\":\"https://api.github.com/repos/Betanto/ceritakita/issues/comments{/number}\",\"contents_url\":\"https://api.github.com/repos/Betanto/ceritakita/contents/{+path}\",\"compare_url\":\"https://api.github.com/repos/Betanto/ceritakita/compare/{base}...{head}\",\"merges_url\":\"https://api.github.com/repos/Betanto/ceritakita/merges\",\"archive_url\":\"https://api.github.com/repos/Betanto/ceritakita/{archive_format}{/ref}\",\"downloads_url\":\"https://api.github.com/repos/Betanto/ceritakita/downloads\",\"issues_url\":\"https://api.github.com/repos/Betanto/ceritakita/issues{/number}\",\"pulls_url\":\"https://api.github.com/repos/Betanto/ceritakita/pulls{/number}\",\"milestones_url\":\"https://api.github.com/repos/Betanto/ceritakita/milestones{/number}\",\"notifications_url\":\"https://api.github.com/repos/Betanto/ceritakita/notifications{?since,all,participating}\",\"labels_url\":\"https://api.github.com/repos/Betanto/ceritakita/labels{/name}\",\"releases_url\":\"https://api.github.com/repos/Betanto/ceritakita/releases{/id}\",\"deployments_url\":\"https://api.github.com/repos/Betanto/ceritakita/deployments\",\"created_at\":\"2025-07-02T03:11:38Z\",\"updated_at\":\"2025-07-10T06:38:09Z\",\"pushed_at\":\"2025-07-10T06:43:53Z\",\"git_url\":\"git://github.com/Betanto/ceritakita.git\",\"ssh_url\":\"git@github.com:Betanto/ceritakita.git\",\"clone_url\":\"https://github.com/Betanto/ceritakita.git\",\"svn_url\":\"https://github.com/Betanto/ceritakita\",\"homepage\":null,\"size\":827,\"stargazers_count\":0,\"watchers_count\":0,\"language\":\"Twig\",\"has_issues\":true,\"has_projects\":true,\"has_downloads\":true,\"has_wiki\":true,\"has_pages\":false,\"has_discussions\":false,\"forks_count\":0,\"mirror_url\":null,\"archived\":false,\"disabled\":false,\"open_issues_count\":0,\"license\":null,\"allow_forking\":true,\"is_template\":false,\"web_commit_signoff_required\":false,\"topics\":[],\"visibility\":\"public\",\"forks\":0,\"open_issues\":0,\"watchers\":0,\"default_branch\":\"main\"}},\"base\":{\"label\":\"Betanto:betanto\",\"ref\":\"betanto\",\"sha\":\"439bafd981a9849da3fda936e844ac058c34d104\",\"user\":{\"login\":\"Betanto\",\"id\":12869237,\"node_id\":\"MDQ6VXNlcjEyODY5MjM3\",\"avatar_url\":\"https://avatars.githubusercontent.com/u/12869237?v=4\",\"gravatar_id\":\"\",\"url\":\"https://api.github.com/users/Betanto\",\"html_url\":\"https://github.com/Betanto\",\"followers_url\":\"https://api.github.com/users/Betanto/followers\",\"following_url\":\"https://api.github.com/users/Betanto/following{/other_user}\",\"gists_url\":\"https://api.github.com/users/Betanto/gists{/gist_id}\",\"starred_url\":\"https://api.github.com/users/Betanto/starred{/owner}{/repo}\",\"subscriptions_url\":\"https://api.github.com/users/Betanto/subscriptions\",\"organizations_url\":\"https://api.github.com/users/Betanto/orgs\",\"repos_url\":\"https://api.github.com/users/Betanto/repos\",\"events_url\":\"https://api.github.com/users/Betanto/events{/privacy}\",\"received_events_url\":\"https://api.github.com/users/Betanto/received_events\",\"type\":\"User\",\"user_view_type\":\"public\",\"site_admin\":false},\"repo\":{\"id\":1012235063,\"node_id\":\"R_kgDOPFV7Nw\",\"name\":\"ceritakita\",\"full_name\":\"Betanto/ceritakita\",\"private\":false,\"owner\":{\"login\":\"Betanto\",\"id\":12869237,\"node_id\":\"MDQ6VXNlcjEyODY5MjM3\",\"avatar_url\":\"https://avatars.githubusercontent.com/u/12869237?v=4\",\"gravatar_id\":\"\",\"url\":\"https://api.github.com/users/Betanto\",\"html_url\":\"https://github.com/Betanto\",\"followers_url\":\"https://api.github.com/users/Betanto/followers\",\"following_url\":\"https://api.github.com/users/Betanto/following{/other_user}\",\"gists_url\":\"https://api.github.com/users/Betanto/gists{/gist_id}\",\"starred_url\":\"https://api.github.com/users/Betanto/starred{/owner}{/repo}\",\"subscriptions_url\":\"https://api.github.com/users/Betanto/subscriptions\",\"organizations_url\":\"https://api.github.com/users/Betanto/orgs\",\"repos_url\":\"https://api.github.com/users/Betanto/repos\",\"events_url\":\"https://api.github.com/users/Betanto/events{/privacy}\",\"received_events_url\":\"https://api.github.com/users/Betanto/received_events\",\"type\":\"User\",\"user_view_type\":\"public\",\"site_admin\":false},\"html_url\":\"https://github.com/Betanto/ceritakita\",\"description\":\"Aplikasi '\n",
      " 'untuk pemenuhan kebutuhan '\n",
      " 'Bootcamp\",\"fork\":false,\"url\":\"https://api.github.com/repos/Betanto/ceritakita\",\"forks_url\":\"https://api.github.com/repos/Betanto/ceritakita/forks\",\"keys_url\":\"https://api.github.com/repos/Betanto/ceritakita/keys{/key_id}\",\"collaborators_url\":\"https://api.github.com/repos/Betanto/ceritakita/collaborators{/collaborator}\",\"teams_url\":\"https://api.github.com/repos/Betanto/ceritakita/teams\",\"hooks_url\":\"https://api.github.com/repos/Betanto/ceritakita/hooks\",\"issue_events_url\":\"https://api.github.com/repos/Betanto/ceritakita/issues/events{/number}\",\"events_url\":\"https://api.github.com/repos/Betanto/ceritakita/events\",\"assignees_url\":\"https://api.github.com/repos/Betanto/ceritakita/assignees{/user}\",\"branches_url\":\"https://api.github.com/repos/Betanto/ceritakita/branches{/branch}\",\"tags_url\":\"https://api.github.com/repos/Betanto/ceritakita/tags\",\"blobs_url\":\"https://api.github.com/repos/Betanto/ceritakita/git/blobs{/sha}\",\"git_tags_url\":\"https://api.github.com/repos/Betanto/ceritakita/git/tags{/sha}\",\"git_refs_url\":\"https://api.github.com/repos/Betanto/ceritakita/git/refs{/sha}\",\"trees_url\":\"https://api.github.com/repos/Betanto/ceritakita/git/trees{/sha}\",\"statuses_url\":\"https://api.github.com/repos/Betanto/ceritakita/statuses/{sha}\",\"languages_url\":\"https://api.github.com/repos/Betanto/ceritakita/languages\",\"stargazers_url\":\"https://api.github.com/repos/Betanto/ceritakita/stargazers\",\"contributors_url\":\"https://api.github.com/repos/Betanto/ceritakita/contributors\",\"subscribers_url\":\"https://api.github.com/repos/Betanto/ceritakita/subscribers\",\"subscription_url\":\"https://api.github.com/repos/Betanto/ceritakita/subscription\",\"commits_url\":\"https://api.github.com/repos/Betanto/ceritakita/commits{/sha}\",\"git_commits_url\":\"https://api.github.com/repos/Betanto/ceritakita/git/commits{/sha}\",\"comments_url\":\"https://api.github.com/repos/Betanto/ceritakita/comments{/number}\",\"issue_comment_url\":\"https://api.github.com/repos/Betanto/ceritakita/issues/comments{/number}\",\"contents_url\":\"https://api.github.com/repos/Betanto/ceritakita/contents/{+path}\",\"compare_url\":\"https://api.github.com/repos/Betanto/ceritakita/compare/{base}...{head}\",\"merges_url\":\"https://api.github.com/repos/Betanto/ceritakita/merges\",\"archive_url\":\"https://api.github.com/repos/Betanto/ceritakita/{archive_format}{/ref}\",\"downloads_url\":\"https://api.github.com/repos/Betanto/ceritakita/downloads\",\"issues_url\":\"https://api.github.com/repos/Betanto/ceritakita/issues{/number}\",\"pulls_url\":\"https://api.github.com/repos/Betanto/ceritakita/pulls{/number}\",\"milestones_url\":\"https://api.github.com/repos/Betanto/ceritakita/milestones{/number}\",\"notifications_url\":\"https://api.github.com/repos/Betanto/ceritakita/notifications{?since,all,participating}\",\"labels_url\":\"https://api.github.com/repos/Betanto/ceritakita/labels{/name}\",\"releases_url\":\"https://api.github.com/repos/Betanto/ceritakita/releases{/id}\",\"deployments_url\":\"https://api.github.com/repos/Betanto/ceritakita/deployments\",\"created_at\":\"2025-07-02T03:11:38Z\",\"updated_at\":\"2025-07-10T06:38:09Z\",\"pushed_at\":\"2025-07-10T06:43:53Z\",\"git_url\":\"git://github.com/Betanto/ceritakita.git\",\"ssh_url\":\"git@github.com:Betanto/ceritakita.git\",\"clone_url\":\"https://github.com/Betanto/ceritakita.git\",\"svn_url\":\"https://github.com/Betanto/ceritakita\",\"homepage\":null,\"size\":827,\"stargazers_count\":0,\"watchers_count\":0,\"language\":\"Twig\",\"has_issues\":true,\"has_projects\":true,\"has_downloads\":true,\"has_wiki\":true,\"has_pages\":false,\"has_discussions\":false,\"forks_count\":0,\"mirror_url\":null,\"archived\":false,\"disabled\":false,\"open_issues_count\":0,\"license\":null,\"allow_forking\":true,\"is_template\":false,\"web_commit_signoff_required\":false,\"topics\":[],\"visibility\":\"public\",\"forks\":0,\"open_issues\":0,\"watchers\":0,\"default_branch\":\"main\"}},\"_links\":{\"self\":{\"href\":\"https://api.github.com/repos/Betanto/ceritakita/pulls/26\"},\"html\":{\"href\":\"https://github.com/Betanto/ceritakita/pull/26\"},\"issue\":{\"href\":\"https://api.github.com/repos/Betanto/ceritakita/issues/26\"},\"comments\":{\"href\":\"https://api.github.com/repos/Betanto/ceritakita/issues/26/comments\"},\"review_comments\":{\"href\":\"https://api.github.com/repos/Betanto/ceritakita/pulls/26/comments\"},\"review_comment\":{\"href\":\"https://api.github.com/repos/Betanto/ceritakita/pulls/comments{/number}\"},\"commits\":{\"href\":\"https://api.github.com/repos/Betanto/ceritakita/pulls/26/commits\"},\"statuses\":{\"href\":\"https://api.github.com/repos/Betanto/ceritakita/statuses/a81c65d0f97b543c861b953fffe38677e251644f\"}},\"author_association\":\"OWNER\",\"auto_merge\":null,\"active_lock_reason\":null,\"merged\":true,\"mergeable\":null,\"rebaseable\":null,\"mergeable_state\":\"unknown\",\"merged_by\":{\"login\":\"Betanto\",\"id\":12869237,\"node_id\":\"MDQ6VXNlcjEyODY5MjM3\",\"avatar_url\":\"https://avatars.githubusercontent.com/u/12869237?v=4\",\"gravatar_id\":\"\",\"url\":\"https://api.github.com/users/Betanto\",\"html_url\":\"https://github.com/Betanto\",\"followers_url\":\"https://api.github.com/users/Betanto/followers\",\"following_url\":\"https://api.github.com/users/Betanto/following{/other_user}\",\"gists_url\":\"https://api.github.com/users/Betanto/gists{/gist_id}\",\"starred_url\":\"https://api.github.com/users/Betanto/starred{/owner}{/repo}\",\"subscriptions_url\":\"https://api.github.com/users/Betanto/subscriptions\",\"organizations_url\":\"https://api.github.com/users/Betanto/orgs\",\"repos_url\":\"https://api.github.com/users/Betanto/repos\",\"events_url\":\"https://api.github.com/users/Betanto/events{/privacy}\",\"received_events_url\":\"https://api.github.com/users/Betanto/received_events\",\"type\":\"User\",\"user_view_type\":\"public\",\"site_admin\":false},\"comments\":0,\"review_comments\":0,\"maintainer_can_modify\":false,\"commits\":6,\"additions\":1105,\"deletions\":2698,\"changed_files\":22}},\"public\":true,\"created_at\":\"2025-07-10T06:43:56Z\"},{\"id\":\"51911266431\",\"type\":\"WatchEvent\",\"actor\":{\"id\":64419455,\"login\":\"crafts69guy\",\"display_login\":\"crafts69guy\",\"gravatar_id\":\"\",\"url\":\"https://api.github.com/users/crafts69guy\",\"avatar_url\":\"https://avatars.githubusercontent.com/u/64419455?\"},\"repo\":{\"id\":26417283,\"name\":\"gridstack/gridstack.js\",\"url\":\"https://api.github.com/repos/gridstack/gridstack.js\"},\"payload\":{\"action\":\"started\"},\"public\":true,\"created_at\":\"2025-07-10T06:43:56Z\",\"org\":{\"id\":31674162,\"login\":\"gridstack\",\"gravatar_id\":\"\",\"url\":\"https://api.github.com/orgs/gridstack\",\"avatar_url\":\"https://avatars.githubusercontent.com/u/31674162?\"}},{\"id\":\"51911266369\",\"type\":\"PushEvent\",\"actor\":{\"id\":84126210,\"login\":\"Pavi99sandamini151\",\"display_login\":\"Pavi99sandamini151\",\"gravatar_id\":\"\",\"url\":\"https://api.github.com/users/Pavi99sandamini151\",\"avatar_url\":\"https://avatars.githubusercontent.com/u/84126210?\"},\"repo\":{\"id\":1017177734,\"name\":\"Pavi99sandamini151/updated_portfolio\",\"url\":\"https://api.github.com/repos/Pavi99sandamini151/updated_portfolio\"},\"payload\":{\"repository_id\":1017177734,\"push_id\":25406767522,\"size\":1,\"distinct_size\":1,\"ref\":\"refs/heads/main\",\"head\":\"a517ee14a536d0dd9a73573e82ca533712b44f4d\",\"before\":\"20870d41613ede98df338b9d2ba8ba71498febe2\",\"commits\":[{\"sha\":\"a517ee14a536d0dd9a73573e82ca533712b44f4d\",\"author\":{\"email\":\"84126210+Pavi99sandamini151@users.noreply.github.com\",\"name\":\"Pavithra '\n",
      " 'Sandamini\"},\"message\":\"Add files via '\n",
      " 'upload\",\"distinct\":true,\"url\":\"https://api.github.com/repos/Pavi99sandamini151/updated_portfolio/commits/a517ee14a536d0dd9a73573e82ca533712b44f4d\"}]},\"public\":true,\"created_at\":\"2025-07-10T06:43:56Z\"},{\"id\":\"51911266372\",\"type\":\"PushEvent\",\"actor\":{\"id\":41898282,\"login\":\"github-actions[bot]\",\"display_login\":\"github-actions\",\"gravatar_id\":\"\",\"url\":\"https://api.github.com/users/github-actions[bot]\",\"avatar_url\":\"https://avatars.githubusercontent.com/u/41898282?\"},\"repo\":{\"id\":959173607,\"name\":\"BePedersen/voi-map\",\"url\":\"https://api.github.com/repos/BePedersen/voi-map\"},\"payload\":{\"repository_id\":959173607,\"push_id\":25406767534,\"size\":1,\"distinct_size\":1,\"ref\":\"refs/heads/main\",\"head\":\"1378f559101f9f3b7d1217194b753350a033bfff\",\"before\":\"b2b105b7c2dc60cd40e5702d2c31e5d2f9c03c4d\",\"commits\":[{\"sha\":\"1378f559101f9f3b7d1217194b753350a033bfff\",\"author\":{\"email\":\"github-actions@github.com\",\"name\":\"github-actions\"},\"message\":\"Automated '\n",
      " 'map '\n",
      " 'update\",\"distinct\":true,\"url\":\"https://api.github.com/repos/BePedersen/voi-map/commits/1378f559101f9f3b7d1217194b753350a033bfff\"}]},\"public\":true,\"created_at\":\"2025-07-10T06:43:56Z\"},{\"id\":\"51911266374\",\"type\":\"PushEvent\",\"actor\":{\"id\":134321679,\"login\":\"radkesvat\",\"display_login\":\"radkesvat\",\"gravatar_id\":\"\",\"url\":\"https://api.github.com/users/radkesvat\",\"avatar_url\":\"https://avatars.githubusercontent.com/u/134321679?\"},\"repo\":{\"id\":756579560,\"name\":\"radkesvat/WaterWall\",\"url\":\"https://api.github.com/repos/radkesvat/WaterWall\"},\"payload\":{\"repository_id\":756579560,\"push_id\":25406767570,\"size\":3,\"distinct_size\":3,\"ref\":\"refs/heads/main\",\"head\":\"5dc67e482abf581cb872586920fa3ed40b48ea74\",\"before\":\"2d5b6b3a65a57e7a5c72bbb47ed5c02d6726c208\",\"commits\":[{\"sha\":\"09ea131bc1cb31a98b70fe5bf2e9182107c71bf9\",\"author\":{\"email\":\"134321679+radkesvat@users.noreply.github.com\",\"name\":\"Radkesvat\"},\"message\":\"remove '\n",
      " 'incorrect '\n",
      " 'comments\",\"distinct\":true,\"url\":\"https://api.github.com/repos/radkesvat/WaterWall/commits/09ea131bc1cb31a98b70fe5bf2e9182107c71bf9\"},{\"sha\":\"36c91e4439d4d26eb9484124db4e03eaad55c96f\",\"author\":{\"email\":\"134321679+radkesvat@users.noreply.github.com\",\"name\":\"Radkesvat\"},\"message\":\"make '\n",
      " 'a bit cleaner '\n",
      " 'conditions\",\"distinct\":true,\"url\":\"https://api.github.com/repos/radkesvat/WaterWall/commits/36c91e4439d4d26eb9484124db4e03eaad55c96f\"},{\"sha\":\"5dc67e482abf581cb872586920fa3ed40b48ea74\",\"author\":{\"email\":\"134321679+radkesvat@users.noreply.github.com\",\"name\":\"Radkesvat\"},\"message\":\"this '\n",
      " 'condition was not supposed to be checked , its the caller '\n",
      " 'responsibility\",\"distinct\":true,\"url\":\"https://api.github.com/repos/radkesvat/WaterWall/commits/5dc67e482abf581cb872586920fa3ed40b48ea74\"}]},\"public\":true,\"created_at\":\"2025-07-10T06:43:56Z\"}]')\n"
     ]
    }
   ],
   "source": [
    "import requests\n",
    "from pprint import pprint\n",
    "\n",
    "r = requests.get('https://api.github.com/events')\n",
    "pprint(r.text)"
   ]
  },
  {
   "cell_type": "code",
   "execution_count": 21,
   "id": "779945e6",
   "metadata": {},
   "outputs": [
    {
     "name": "stdout",
     "output_type": "stream",
     "text": [
      "500500\n"
     ]
    }
   ],
   "source": [
    "total = 0\n",
    "for i in range(1, 1001):\n",
    "    total += i\n",
    "print(total)"
   ]
  },
  {
   "cell_type": "code",
   "execution_count": null,
   "id": "8e055e59",
   "metadata": {},
   "outputs": [],
   "source": [
    "i = 0\n",
    "while(True):\n",
    "    play == input(\"您還要輸入嗎?(y/n)\")"
   ]
  },
  {
   "cell_type": "code",
   "execution_count": 1,
   "id": "87d549ea",
   "metadata": {},
   "outputs": [
    {
     "name": "stdout",
     "output_type": "stream",
     "text": [
      "3\n",
      "3\n",
      "=======\n",
      "3\n",
      "5\n"
     ]
    }
   ],
   "source": [
    "n = 3\n",
    "x = n\n",
    "print(n)\n",
    "print(x)\n",
    "print('=======')\n",
    "x = 5\n",
    "print(n)\n",
    "print(x)"
   ]
  },
  {
   "cell_type": "code",
   "execution_count": 6,
   "id": "44745e74",
   "metadata": {},
   "outputs": [
    {
     "name": "stdout",
     "output_type": "stream",
     "text": [
      "['apple', 'banana', 'cherry']\n",
      "['apple', 'banana', 'cherry']\n",
      "========\n",
      "['apple', 'blueberry', 'cherry']\n",
      "['apple', 'blueberry', 'cherry']\n",
      "['apple', 'blueberry', 'cherry']\n"
     ]
    }
   ],
   "source": [
    "fruits = ['apple', 'banana', 'cherry']\n",
    "type(fruits)\n",
    "print(fruits)\n",
    "another_fruits = fruits\n",
    "another_fruits1 = another_fruits\n",
    "print(another_fruits)\n",
    "\n",
    "print(\"========\")\n",
    "fruits[1] = 'blueberry'\n",
    "print(fruits)\n",
    "print(another_fruits)\n",
    "print(another_fruits1)"
   ]
  },
  {
   "cell_type": "code",
   "execution_count": 7,
   "id": "b99a9afd",
   "metadata": {},
   "outputs": [
    {
     "name": "stdout",
     "output_type": "stream",
     "text": [
      "apple\n",
      "blueberry\n",
      "cherry\n"
     ]
    }
   ],
   "source": [
    "print(fruits[0])\n",
    "print(fruits[1])\n",
    "print(fruits[2])"
   ]
  },
  {
   "cell_type": "code",
   "execution_count": 8,
   "id": "bd5086a1",
   "metadata": {},
   "outputs": [
    {
     "name": "stdout",
     "output_type": "stream",
     "text": [
      "<class 'list'>\n"
     ]
    }
   ],
   "source": [
    "print(type(fruits))\n",
    "fruits.append('pineaple')"
   ]
  },
  {
   "cell_type": "code",
   "execution_count": 9,
   "id": "1c6f98b9",
   "metadata": {},
   "outputs": [
    {
     "name": "stdout",
     "output_type": "stream",
     "text": [
      "apple\n",
      "blueberry\n",
      "cherry\n",
      "pineaple\n"
     ]
    }
   ],
   "source": [
    "for item in fruits:\n",
    "    print(item)"
   ]
  }
 ],
 "metadata": {
  "kernelspec": {
   "display_name": "0710",
   "language": "python",
   "name": "python3"
  },
  "language_info": {
   "codemirror_mode": {
    "name": "ipython",
    "version": 3
   },
   "file_extension": ".py",
   "mimetype": "text/x-python",
   "name": "python",
   "nbconvert_exporter": "python",
   "pygments_lexer": "ipython3",
   "version": "3.11.13"
  }
 },
 "nbformat": 4,
 "nbformat_minor": 5
}
