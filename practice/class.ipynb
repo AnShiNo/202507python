{
 "cells": [
  {
   "cell_type": "code",
   "execution_count": null,
   "id": "3c0824a5",
   "metadata": {},
   "outputs": [
    {
     "name": "stdout",
     "output_type": "stream",
     "text": [
      "嗨，我是小機器人\n"
     ]
    }
   ],
   "source": [
    "class Robot:  # 這裡是在說：「我要寫一個叫Robot的藍圖」\n",
    "    def __init__(self, name):\n",
    "        self.name = name  # 當機器人被製造出來，我把名字放到它的名字盒裡\n",
    "\n",
    "    def say_hi(self):\n",
    "        print(\"嗨，我是\" + self.name)  # 機器人說話，用它自己的名字\n",
    "\n",
    "# 機器人打招呼，說出它的名字\n",
    "robot1 = Robot(\"小機器人\")  # 我造了一台叫『小機器人』的機器人\n",
    "robot1.say_hi()             # 叫這台機器人打招呼"
   ]
  }
 ],
 "metadata": {
  "kernelspec": {
   "display_name": "venv1",
   "language": "python",
   "name": "python3"
  },
  "language_info": {
   "codemirror_mode": {
    "name": "ipython",
    "version": 3
   },
   "file_extension": ".py",
   "mimetype": "text/x-python",
   "name": "python",
   "nbconvert_exporter": "python",
   "pygments_lexer": "ipython3",
   "version": "3.11.13"
  }
 },
 "nbformat": 4,
 "nbformat_minor": 5
}
