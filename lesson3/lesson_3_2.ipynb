{
 "cells": [
  {
   "cell_type": "code",
   "execution_count": 62,
   "id": "66c162e3",
   "metadata": {},
   "outputs": [
    {
     "data": {
      "text/plain": [
       "11"
      ]
     },
     "execution_count": 62,
     "metadata": {},
     "output_type": "execute_result"
    }
   ],
   "source": [
    "def add_number(value1, value2):\n",
    "    return value1 + value2\n",
    "result = add_number(5, 6)\n",
    "result"
   ]
  },
  {
   "cell_type": "code",
   "execution_count": 63,
   "id": "2d1bb064",
   "metadata": {},
   "outputs": [],
   "source": [
    "def merge_and_sort_lists(list1: list[int], list2: list[int]) -> list[int]:\n",
    "    merged = list1 + list2\n",
    "    merged.sort()\n",
    "    return merged"
   ]
  },
  {
   "cell_type": "markdown",
   "id": "baa928e4",
   "metadata": {},
   "source": [
    "這個 merge_and_sort_lists 函數展示了 Python 中處理列表合併和排序的基本操作。讓我逐步解析這個函數的工作原理和設計特點。\n",
    "\n",
    "函數簽章與型別提示\n",
    "函數使用了現代 Python 的型別提示語法，明確指定兩個參數 list1 和 list2 都是整數列表 (list[int])，並且返回值也是整數列表。這種型別提示不僅提高了程式碼的可讀性，也有助於 IDE 提供更好的程式碼補全和錯誤檢查。\n",
    "\n",
    "列表合併操作\n",
    "函數的第一步是使用 + 運算符將兩個列表合併：merged = list1 + list2。這個操作創建了一個新的列表，包含了兩個原始列表的所有元素。需要注意的是，這個操作不會修改原始的輸入列表，而是創建一個全新的列表物件。\n",
    "\n",
    "就地排序\n",
    "接下來，函數使用 merged.sort() 方法對合併後的列表進行排序。這裡有個重要的細節：sort() 方法是「就地排序」(in-place sorting)，意思是它直接修改原列表而不返回新列表。這與 sorted() 函數不同，後者會返回一個新的已排序列表。\n",
    "\n",
    "潛在的改進空間\n",
    "雖然這個函數功能正確，但有幾個值得考慮的改進點：\n",
    "\n",
    "效能考量：可以考慮使用 sorted(list1 + list2) 一步完成合併和排序\n",
    "記憶體使用：如果列表很大，可能需要考慮更節省記憶體的方法\n",
    "彈性：目前只支援整數列表，可以考慮使用泛型來支援更多資料型別\n",
    "這個函數是學習 Python 列表操作的絕佳範例，展示了型別提示、列表合併和排序的核心概念。"
   ]
  },
  {
   "cell_type": "markdown",
   "id": "e3fb20f5",
   "metadata": {},
   "source": [
    "這段程式碼定義了一個名為 `merge_and_sort_lists` 的函數，目的是合併兩個整數列表並將結果排序。函數接受兩個參數 `list1` 和 `list2`，它們都是整數型別的列表。首先，函數將兩個列表透過加號運算子合併成一個新的列表 `merged`。接著，使用 `sort()` 方法將合併後的列表進行升冪排序。最後，函數回傳排序後的列表。\n",
    "\n",
    "這種寫法簡潔且易於理解，適合用於需要將多個整數列表合併並排序的情境。由於 `sort()` 方法會直接修改原始列表，因此不會產生額外的記憶體負擔。此函數也利用了 Python 的型別註解，讓使用者更容易了解輸入與輸出的資料型態。"
   ]
  },
  {
   "cell_type": "code",
   "execution_count": 64,
   "id": "cc35992e",
   "metadata": {},
   "outputs": [
    {
     "name": "stdout",
     "output_type": "stream",
     "text": [
      "合併並排序後的列表: [17, 34, 35, 53, 60, 68, 84, 88]\n"
     ]
    }
   ],
   "source": [
    "import random\n",
    "\n",
    "# 產生一個包含 10 個亂數整數的 list，每個整數介於 1 到 100 之間\n",
    "random_list1 = [random.randint(1, 100) for _ in range(3)]\n",
    "random_list2 = [random.randint(1, 100) for _ in range(5)]\n",
    "\n",
    "merged_sorted_list = merge_and_sort_lists(random_list1, random_list2)\n",
    "print(\"合併並排序後的列表:\", merged_sorted_list)\n",
    "# 此腳本定義了一個加法函數，合併兩個整數列表並排序。\n",
    "# 它也會產生兩個隨機整數列表，並將它們合併為一個排序後的列表。\n",
    "# 加法的結果儲存在 'result' 變數中。"
   ]
  }
 ],
 "metadata": {
  "kernelspec": {
   "display_name": "0710",
   "language": "python",
   "name": "python3"
  },
  "language_info": {
   "codemirror_mode": {
    "name": "ipython",
    "version": 3
   },
   "file_extension": ".py",
   "mimetype": "text/x-python",
   "name": "python",
   "nbconvert_exporter": "python",
   "pygments_lexer": "ipython3",
   "version": "3.11.13"
  }
 },
 "nbformat": 4,
 "nbformat_minor": 5
}
